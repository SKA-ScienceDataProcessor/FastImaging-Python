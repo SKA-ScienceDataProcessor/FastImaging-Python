{
 "cells": [
  {
   "cell_type": "markdown",
   "metadata": {},
   "source": [
    "# W-Projection with Oversampling - Simple Test\n",
    "\n",
    "A tweakable end-to-end runthrough. Tests W-Projection with oversampling."
   ]
  },
  {
   "cell_type": "code",
   "execution_count": null,
   "metadata": {},
   "outputs": [],
   "source": [
    "import numpy as np\n",
    "import logging\n",
    "import os\n",
    "\n",
    "import astropy.units as u\n",
    "import astropy.constants as const\n",
    "import fastimgproto.imager as imager\n",
    "from fastimgproto.gridder.gridder import convolve_to_grid\n",
    "import fastimgproto.visibility as visibility\n",
    "\n",
    "from astropy.coordinates import Angle, SkyCoord, AltAz, EarthLocation\n",
    "from astropy.time import Time\n",
    "from fastimgproto.gridder.conv_funcs import GaussianSinc\n",
    "from fastimgproto.skymodel.helpers import SkyRegion, SkySource\n",
    "from fastimgproto.sourcefind.image import SourceFindImage\n",
    "from fastimgproto.telescope.readymade import Meerkat"
   ]
  },
  {
   "cell_type": "code",
   "execution_count": null,
   "metadata": {},
   "outputs": [],
   "source": [
    "import matplotlib.pyplot as plt\n",
    "import matplotlib.image as mpimg\n",
    "%matplotlib inline\n",
    "# Plot image pixels in cartesian ordering (i.e. y-positive == upwards):\n",
    "plt.rcParams['image.origin'] = 'lower'\n",
    "# Make plots bigger\n",
    "plt.rcParams['figure.figsize'] = 10, 10"
   ]
  },
  {
   "cell_type": "markdown",
   "metadata": {},
   "source": [
    "## Set up the telescope"
   ]
  },
  {
   "cell_type": "code",
   "execution_count": null,
   "metadata": {},
   "outputs": [],
   "source": [
    "telescope = Meerkat()"
   ]
  },
  {
   "cell_type": "code",
   "execution_count": null,
   "metadata": {},
   "outputs": [],
   "source": [
    "pointing_centre = SkyCoord(0 * u.deg, -30 * u.deg)\n",
    "obs_central_frequency = 30 * u.MHz\n",
    "wavelength = const.c / obs_central_frequency\n",
    "transit_time = telescope.next_transit(pointing_centre.ra,\n",
    "                                      start_time=Time('2017-01-01'))"
   ]
  },
  {
   "cell_type": "markdown",
   "metadata": {},
   "source": [
    "Choose the observation times / sampling regime"
   ]
  },
  {
   "cell_type": "code",
   "execution_count": null,
   "metadata": {},
   "outputs": [],
   "source": [
    "nstep=10\n",
    "obs_times = transit_time + np.linspace(-4, 4, nstep) * u.hr\n",
    "print(\"Generating UVW-baselines for {} timesteps\".format(nstep))\n",
    "uvw_m = telescope.uvw_tracking_skycoord(pointing_centre, obs_times)\n",
    "# From here on we use UVW as multiples of wavelength, lambda:\n",
    "uvw_lambda = (uvw_m / wavelength).to(u.dimensionless_unscaled).value"
   ]
  },
  {
   "cell_type": "markdown",
   "metadata": {},
   "source": [
    "## Configure the sources to simulate"
   ]
  },
  {
   "cell_type": "markdown",
   "metadata": {},
   "source": [
    "Sources"
   ]
  },
  {
   "cell_type": "code",
   "execution_count": null,
   "metadata": {},
   "outputs": [],
   "source": [
    "source_posn = SkyCoord(\n",
    "    ra=pointing_centre.ra - 10.0 * u.deg,\n",
    "    dec=pointing_centre.dec - 0.0 * u.deg)\n",
    "\n",
    "sources = [\n",
    "    SkySource(position=source_posn, flux=1 * u.Jy),\n",
    "]"
   ]
  },
  {
   "cell_type": "code",
   "execution_count": null,
   "metadata": {},
   "outputs": [],
   "source": [
    "all_sources = sources"
   ]
  },
  {
   "cell_type": "markdown",
   "metadata": {},
   "source": [
    "## Simulate visibilities, given the source-list and UVW baseline info:"
   ]
  },
  {
   "cell_type": "code",
   "execution_count": null,
   "metadata": {},
   "outputs": [],
   "source": [
    "# Simulate incoming data; includes transient sources, noise:\n",
    "baseline_noise_level = 0.001 * u.Jy\n",
    "\n",
    "data_vis = visibility.visibilities_for_source_list(\n",
    "    pointing_centre,\n",
    "    source_list = all_sources, \n",
    "    uvw = uvw_lambda)\n",
    "\n",
    "#data_vis = visibility.add_gaussian_noise(baseline_noise_level, data_vis)\n",
    "\n",
    "snr_weights = np.ones_like(data_vis,dtype=np.float_)"
   ]
  },
  {
   "cell_type": "markdown",
   "metadata": {},
   "source": [
    "## Configure and run the imager"
   ]
  },
  {
   "cell_type": "code",
   "execution_count": null,
   "metadata": {},
   "outputs": [],
   "source": [
    "image_size=1024 * u.pixel\n",
    "cell_size=100 * u.arcsecond"
   ]
  },
  {
   "cell_type": "code",
   "execution_count": null,
   "metadata": {},
   "outputs": [],
   "source": [
    "kernel_support = 3\n",
    "kernel_func = GaussianSinc(trunc=kernel_support)"
   ]
  },
  {
   "cell_type": "markdown",
   "metadata": {},
   "source": [
    "## Pipeline"
   ]
  },
  {
   "cell_type": "markdown",
   "metadata": {},
   "source": [
    "Run pipeline using several oversampling values"
   ]
  },
  {
   "cell_type": "code",
   "execution_count": null,
   "metadata": {},
   "outputs": [],
   "source": [
    "rms_list = []\n",
    "peakflux_list = []\n",
    "extremum_list = []\n",
    "oversampling_list = [1, 2, 4, 6, 8, 10, 12, 14, 16]\n",
    "\n",
    "for oversampling in oversampling_list:\n",
    "    image, beam = imager.image_visibilities(\n",
    "        data_vis,\n",
    "        snr_weights,\n",
    "        uvw_lambda,\n",
    "        image_size=image_size,\n",
    "        cell_size=cell_size,\n",
    "        kernel_func=kernel_func,\n",
    "        kernel_support=kernel_support,\n",
    "        kernel_exact=False,\n",
    "        kernel_oversampling=oversampling,\n",
    "        num_wplanes=32,\n",
    "        max_wpconv_support=30,\n",
    "        )\n",
    "    image = np.real(image)\n",
    "    beam = np.real(beam)\n",
    "    \n",
    "    detection_n_sigma=50\n",
    "    analysis_n_sigma=50\n",
    "    sfimage = SourceFindImage(data=np.real(image),\n",
    "                              detection_n_sigma=detection_n_sigma,\n",
    "                              analysis_n_sigma=analysis_n_sigma,\n",
    "                              )\n",
    "    \n",
    "    rms_list.append(sfimage.rms_est)\n",
    "    isl = sfimage.islands[0]\n",
    "    peakflux_list.append(isl.params.extremum.value)\n",
    "    extremum_list.append(isl.params.extremum)"
   ]
  },
  {
   "cell_type": "markdown",
   "metadata": {},
   "source": [
    "## Analysis of Results"
   ]
  },
  {
   "cell_type": "code",
   "execution_count": null,
   "metadata": {},
   "outputs": [],
   "source": [
    "rms_list"
   ]
  },
  {
   "cell_type": "code",
   "execution_count": null,
   "metadata": {},
   "outputs": [],
   "source": [
    "peakflux_list"
   ]
  },
  {
   "cell_type": "code",
   "execution_count": null,
   "metadata": {},
   "outputs": [],
   "source": [
    "extremum_list"
   ]
  },
  {
   "cell_type": "markdown",
   "metadata": {},
   "source": [
    "### Plot peak-flux as a function of oversampling"
   ]
  },
  {
   "cell_type": "code",
   "execution_count": null,
   "metadata": {},
   "outputs": [],
   "source": [
    "%matplotlib inline\n",
    "\n",
    "plt.plot(oversampling_list, peakflux_list)\n",
    "plt.ylabel('Peak flux [Jy]')\n",
    "plt.xlabel('Oversampling')\n",
    "plt.show()\n"
   ]
  },
  {
   "cell_type": "markdown",
   "metadata": {},
   "source": [
    "### Plot dynamic range as a function of oversampling"
   ]
  },
  {
   "cell_type": "code",
   "execution_count": null,
   "metadata": {},
   "outputs": [],
   "source": [
    "%matplotlib inline\n",
    "\n",
    "plt.plot(oversampling_list, np.array(peakflux_list) / np.array(rms_list))\n",
    "plt.ylabel('Dynamic Range')\n",
    "plt.xlabel('Oversampling')\n",
    "plt.show()"
   ]
  },
  {
   "cell_type": "markdown",
   "metadata": {},
   "source": [
    "### Plot rms estimation as a function of oversampling"
   ]
  },
  {
   "cell_type": "code",
   "execution_count": null,
   "metadata": {},
   "outputs": [],
   "source": [
    "%matplotlib inline\n",
    "\n",
    "plt.plot(oversampling_list, rms_list)\n",
    "plt.ylabel('RMS estimation')\n",
    "plt.xlabel('Oversampling')\n",
    "plt.show()"
   ]
  },
  {
   "cell_type": "code",
   "execution_count": null,
   "metadata": {},
   "outputs": [],
   "source": []
  }
 ],
 "metadata": {
  "language_info": {
   "name": "python",
   "pygments_lexer": "ipython3"
  }
 },
 "nbformat": 4,
 "nbformat_minor": 1
}
