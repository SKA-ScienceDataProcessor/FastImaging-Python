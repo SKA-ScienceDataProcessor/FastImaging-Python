{
 "cells": [
  {
   "cell_type": "code",
   "execution_count": null,
   "metadata": {},
   "outputs": [],
   "source": [
    "import numpy as np\n",
    "import os\n",
    "import datetime\n",
    "\n",
    "import astropy.units as u\n",
    "import astropy.constants as const\n",
    "import fastimgproto.imager as imager\n",
    "import fastimgproto.visibility as visibility\n",
    "import fastimgproto.gridder.conv_funcs as kfuncs\n",
    "\n",
    "from astropy.coordinates import Angle, SkyCoord, AltAz, EarthLocation\n",
    "from astropy.time import Time\n",
    "\n",
    "from fastimgproto.skymodel.helpers import SkyRegion, SkySource\n",
    "from fastimgproto.sourcefind.image import SourceFindImage\n",
    "from fastimgproto.telescope.readymade import Meerkat\n",
    "\n",
    "from fastimgproto.gridder.conv_funcs import Pillbox\n",
    "from fastimgproto.gridder.conv_funcs import Triangle\n",
    "from fastimgproto.gridder.conv_funcs import Sinc\n",
    "from fastimgproto.gridder.conv_funcs import Gaussian\n",
    "from fastimgproto.gridder.conv_funcs import GaussianSinc\n",
    "from fastimgproto.gridder.conv_funcs import PSWF\n",
    "\n",
    "from fastimgproto.bindings import cpp_image_visibilities, CppKernelFuncs\n"
   ]
  },
  {
   "cell_type": "code",
   "execution_count": null,
   "metadata": {},
   "outputs": [],
   "source": [
    "import matplotlib.pyplot as plt\n",
    "import matplotlib.image as mpimg\n",
    "%matplotlib inline\n",
    "# Plot image pixels in cartesian ordering (i.e. y-positive == upwards):\n",
    "plt.rcParams['image.origin'] = 'lower'\n",
    "# Make plots bigger\n",
    "plt.rcParams['figure.figsize'] = 10, 10"
   ]
  },
  {
   "cell_type": "code",
   "execution_count": null,
   "metadata": {},
   "outputs": [],
   "source": [
    "telescope = Meerkat()\n",
    "print(\"Telescope with {} antennae == {} baselines\".format(\n",
    "    len(telescope.ant_local_xyz), len(telescope.baseline_local_xyz)))\n",
    "print(\"Centre: {!r}, {!r}\".format(telescope.lon, telescope.lat))"
   ]
  },
  {
   "cell_type": "code",
   "execution_count": null,
   "metadata": {},
   "outputs": [],
   "source": [
    "pointing_centre = SkyCoord(0 * u.deg, -30 * u.deg)\n",
    "obs_central_frequency = 30. * u.MHz\n",
    "wavelength = const.c / obs_central_frequency\n",
    "transit_time = telescope.next_transit(pointing_centre.ra,\n",
    "                                      start_time=Time('2010-01-01'))"
   ]
  },
  {
   "cell_type": "code",
   "execution_count": null,
   "metadata": {},
   "outputs": [],
   "source": [
    "altaz = pointing_centre.transform_to(\n",
    "    AltAz(obstime=transit_time,\n",
    "         location=telescope.centre))\n",
    "altaz.alt.deg"
   ]
  },
  {
   "cell_type": "code",
   "execution_count": null,
   "metadata": {},
   "outputs": [],
   "source": [
    "nstep=10\n",
    "obs_times = transit_time + np.linspace(-4, 4, nstep) * u.hr\n",
    "print(\"Generating UVW-baselines for {} timesteps\".format(nstep))\n",
    "uvw_m = telescope.uvw_tracking_skycoord(pointing_centre, obs_times)\n",
    "# From here on we use UVW as multiples of wavelength, lambda:\n",
    "uvw_lambda = (uvw_m / wavelength).to(u.dimensionless_unscaled).value\n",
    "\n",
    "\n",
    "# Additional source to North-East of pointing centre\n",
    "extra_src_position = SkyCoord(ra=pointing_centre.ra + 0.01 * u.deg,\n",
    "                              dec=pointing_centre.dec + 0.01 * u.deg, )\n",
    "\n",
    "steady_sources = [\n",
    "    SkySource(pointing_centre, flux=1 * u.Jy),\n",
    "    SkySource(extra_src_position, flux=0.4 * u.Jy),\n",
    "]\n",
    "\n",
    "# Transient sources\n",
    "transient_posn = SkyCoord(\n",
    "    ra=pointing_centre.ra - 0.0 * u.deg,\n",
    "    dec=pointing_centre.dec - 0.0 * u.deg)\n",
    "transient_posn2 = SkyCoord(\n",
    "    ra=pointing_centre.ra - 4.0 * u.deg,\n",
    "    dec=pointing_centre.dec - 4.0 * u.deg)\n",
    "transient_posn3 = SkyCoord(\n",
    "    ra=pointing_centre.ra - 7.0 * u.deg,\n",
    "    dec=pointing_centre.dec - 7.0 * u.deg)\n",
    "transient_posn4 = SkyCoord(\n",
    "    ra=pointing_centre.ra - 10.0 * u.deg,\n",
    "    dec=pointing_centre.dec - 10.0 * u.deg)\n",
    "transient_posn5 = SkyCoord(\n",
    "    ra=pointing_centre.ra - 13.0 * u.deg,\n",
    "    dec=pointing_centre.dec - 13.0 * u.deg)\n",
    "\n",
    "transient_sources = [\n",
    "    SkySource(position=transient_posn, flux=1 * u.Jy),\n",
    "    SkySource(position=transient_posn2, flux=1 * u.Jy),\n",
    "    SkySource(position=transient_posn3, flux=1 * u.Jy),\n",
    "    SkySource(position=transient_posn4, flux=1 * u.Jy),\n",
    "    SkySource(position=transient_posn5, flux=1 * u.Jy),\n",
    "]\n",
    "\n",
    "# All sources\n",
    "all_sources = transient_sources\n",
    "\n",
    "# Simulate incoming data; includes transient sources, noise:\n",
    "print(\"Simulating visibilities\")\n",
    "data_vis = visibility.visibilities_for_source_list(\n",
    "    pointing_centre,\n",
    "    source_list = all_sources, \n",
    "    uvw = uvw_lambda)\n",
    "\n",
    "#vis_noise_level = 0.1 * u.Jy\n",
    "#data_vis = visibility.add_gaussian_noise(vis_noise_level, data_vis)\n",
    "\n",
    "vis_weights=np.ones(len(data_vis), dtype=np.float_)"
   ]
  },
  {
   "cell_type": "markdown",
   "metadata": {},
   "source": [
    "## Set parameters"
   ]
  },
  {
   "cell_type": "code",
   "execution_count": null,
   "metadata": {},
   "outputs": [],
   "source": [
    "import stp_python\n",
    "\n",
    "image_size=1024 * u.pixel\n",
    "cell_size=100 * u.arcsecond\n",
    "kernel_support = 3\n",
    "trunc = kernel_support\n",
    "kernel_func = kfuncs.PSWF(trunc=trunc)\n",
    "kernel_func_name=CppKernelFuncs.pswf\n",
    "kernel_trunc_radius = kernel_support\n",
    "kernel_support=kernel_support\n",
    "kernel_exact=False\n",
    "kernel_oversampling=8\n",
    "generate_beam=True\n",
    "fft_routine = stp_python.FFTRoutine.FFTW_ESTIMATE_FFT\n",
    "fft_wisdom_filename=\"\"\n",
    "num_wplanes=80\n",
    "wplanes_median=True\n",
    "max_wpconv_support=50\n",
    "analytic_gcf=False\n",
    "hankel_opt=True\n",
    "undersampling_opt=1\n",
    "kernel_trunc_perc=1.0\n",
    "interp_type=\"linear\"  # \"linear\" , \"cubic\""
   ]
  },
  {
   "cell_type": "markdown",
   "metadata": {},
   "source": [
    "## Run Python implementation "
   ]
  },
  {
   "cell_type": "code",
   "execution_count": null,
   "metadata": {},
   "outputs": [],
   "source": [
    "start = datetime.datetime.now()\n",
    "\n",
    "image, beam = imager.image_visibilities(\n",
    "    data_vis,\n",
    "    vis_weights,\n",
    "    uvw_lambda,\n",
    "    image_size=image_size,\n",
    "    cell_size=cell_size,\n",
    "    kernel_func=kernel_func,\n",
    "    kernel_support=kernel_support,\n",
    "    kernel_exact=kernel_exact,\n",
    "    kernel_oversampling=kernel_oversampling,\n",
    "    num_wplanes=num_wplanes,\n",
    "    wplanes_median=wplanes_median,\n",
    "    max_wpconv_support=max_wpconv_support,\n",
    "    analytic_gcf=analytic_gcf,\n",
    "    hankel_opt=hankel_opt,\n",
    "    interp_type=interp_type,\n",
    "    undersampling_opt=undersampling_opt\n",
    "    )\n",
    "\n",
    "stop = datetime.datetime.now()"
   ]
  },
  {
   "cell_type": "code",
   "execution_count": null,
   "metadata": {},
   "outputs": [],
   "source": [
    "duration = (stop - start).total_seconds()\n",
    "duration"
   ]
  },
  {
   "cell_type": "markdown",
   "metadata": {},
   "source": [
    "## Run CPP implementation"
   ]
  },
  {
   "cell_type": "code",
   "execution_count": null,
   "metadata": {},
   "outputs": [],
   "source": [
    "start = datetime.datetime.now()\n",
    "\n",
    "interp_type_cpp=stp_python.InterpType.LINEAR\n",
    "if interp_type == \"linear\":\n",
    "    interp_type_cpp=stp_python.InterpType.LINEAR\n",
    "if interp_type == \"cubic\":\n",
    "    interp_type_cpp=stp_python.InterpType.CUBIC\n",
    "\n",
    "bind_image, bind_beam = cpp_image_visibilities(\n",
    "    data_vis,\n",
    "    vis_weights,\n",
    "    uvw_lambda,\n",
    "    image_size=image_size,\n",
    "    cell_size=cell_size,\n",
    "    kernel_func_name=kernel_func_name,\n",
    "    kernel_trunc_radius = kernel_support,\n",
    "    kernel_support=kernel_support,\n",
    "    kernel_exact=kernel_exact,\n",
    "    kernel_oversampling=kernel_oversampling,\n",
    "    generate_beam=generate_beam,\n",
    "    fft_routine=fft_routine,\n",
    "    fft_wisdom_filename=fft_wisdom_filename,\n",
    "    num_wplanes=num_wplanes,\n",
    "    wplanes_median=wplanes_median,\n",
    "    max_wpconv_support=max_wpconv_support,\n",
    "    analytic_gcf=analytic_gcf,\n",
    "    hankel_opt=hankel_opt,\n",
    "    undersampling_opt=undersampling_opt,\n",
    "    kernel_trunc_perc=kernel_trunc_perc,\n",
    "    interp_type=interp_type_cpp\n",
    "    )\n",
    "\n",
    "stop = datetime.datetime.now()"
   ]
  },
  {
   "cell_type": "code",
   "execution_count": null,
   "metadata": {},
   "outputs": [],
   "source": [
    "duration = (stop - start).total_seconds()\n",
    "duration"
   ]
  },
  {
   "cell_type": "code",
   "execution_count": null,
   "metadata": {},
   "outputs": [],
   "source": [
    "bind_diffmax = np.max(np.abs(bind_image-image))\n",
    "print(bind_diffmax)\n",
    "bind_re_diffmax = np.max(np.abs(bind_beam-beam))\n",
    "print(bind_re_diffmax)\n",
    "\n",
    "# assert cpp_diffmax < 2e-15"
   ]
  },
  {
   "cell_type": "markdown",
   "metadata": {},
   "source": [
    "## Plot results"
   ]
  },
  {
   "cell_type": "code",
   "execution_count": null,
   "metadata": {},
   "outputs": [],
   "source": [
    "# %matplotlib notebook\n",
    "%matplotlib inline\n",
    "fig, axes = plt.subplots(ncols=2, nrows=2, figsize=(12,12))\n",
    "clim = (-0.1, 0.7)\n",
    "# xlim = (250,750)\n",
    "xlim = (450,550)\n",
    "# xlim = (550,800)\n",
    "ylim = xlim\n",
    "\n",
    "im_plot = axes[0, 0].imshow(image, clim=clim)\n",
    "axes[0, 1].imshow(beam, clim=clim)\n",
    "axes[1, 0].imshow(bind_image, clim=clim)\n",
    "axes[1, 1].imshow(bind_beam, clim=clim)\n",
    "\n",
    "#img_ax.set_xlim(*xlim)\n",
    "#img_ax.set_ylim(*ylim)\n",
    "axes[0, 0].set_title('image python')\n",
    "axes[1, 0].set_title('image cpp')\n",
    "\n",
    "x_range = xlim[1]-xlim[0]\n",
    "y_range = ylim[1]-ylim[0]\n",
    "beam_xlim = ( beam.shape[1]/2 - x_range/2, beam.shape[1]/2 + x_range/2)\n",
    "beam_ylim = ( beam.shape[0]/2 - y_range/2, beam.shape[0]/2 + y_range/2)\n",
    "#bm_ax.set_xlim(beam_xlim)\n",
    "#bm_ax.set_ylim(beam_ylim)\n",
    "axes[0, 1].set_title('beam python')\n",
    "axes[1, 1].set_title('beam cpp')\n",
    "\n",
    "fig.subplots_adjust(right=0.8)\n",
    "cbar_ax = fig.add_axes([0.85, 0.15, 0.05, 0.7])\n",
    "fig.colorbar(im_plot, cax=cbar_ax)\n",
    "#beam_xlim, beam_ylim"
   ]
  },
  {
   "cell_type": "markdown",
   "metadata": {},
   "source": [
    "## Sourcefinding"
   ]
  },
  {
   "cell_type": "code",
   "execution_count": null,
   "metadata": {},
   "outputs": [],
   "source": [
    "from fastimgproto.sourcefind.image import SourceFindImage\n",
    "\n",
    "detection_n_sigma=15\n",
    "analysis_n_sigma=15\n",
    "sfimage = SourceFindImage(data=np.real(image),\n",
    "                          detection_n_sigma=detection_n_sigma,\n",
    "                          analysis_n_sigma=analysis_n_sigma,\n",
    "                          )\n",
    "detection_n_sigma=15\n",
    "analysis_n_sigma=15\n",
    "bind_sfimage = SourceFindImage(data=np.real(bind_image),\n",
    "                          detection_n_sigma=detection_n_sigma,\n",
    "                          analysis_n_sigma=analysis_n_sigma,\n",
    "                          )"
   ]
  },
  {
   "cell_type": "code",
   "execution_count": null,
   "metadata": {},
   "outputs": [],
   "source": [
    "for isl in sfimage.islands:\n",
    "    print(isl.params.extremum)"
   ]
  },
  {
   "cell_type": "code",
   "execution_count": null,
   "metadata": {},
   "outputs": [],
   "source": [
    "for isl in bind_sfimage.islands:\n",
    "    print(isl.params.extremum)"
   ]
  },
  {
   "cell_type": "code",
   "execution_count": null,
   "metadata": {},
   "outputs": [],
   "source": [
    "# Differences\n",
    "assert(len(sfimage.islands) == len(bind_sfimage.islands))\n",
    "\n",
    "for idx in range(0, len(sfimage.islands)):\n",
    "    print(abs(sfimage.islands[idx].params.extremum.value - bind_sfimage.islands[idx].params.extremum.value))"
   ]
  },
  {
   "cell_type": "code",
   "execution_count": null,
   "metadata": {},
   "outputs": [],
   "source": []
  }
 ],
 "metadata": {
  "language_info": {
   "name": "python",
   "pygments_lexer": "ipython3"
  }
 },
 "nbformat": 4,
 "nbformat_minor": 1
}
