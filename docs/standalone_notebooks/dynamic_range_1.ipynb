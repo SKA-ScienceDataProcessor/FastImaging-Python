{
 "cells": [
  {
   "cell_type": "markdown",
   "metadata": {},
   "source": [
    "# On dynamic range: the basics\n",
    "## Intro to (single) floating point precision\n",
    "\n",
    "### Background: \n",
    "See https://en.wikibooks.org/wiki/Floating_Point/Floating-Point_Numbers for an introduction to floating point precision, range, significands and exponents.\n",
    "In particular, https://en.wikibooks.org/wiki/Floating_Point/Floating_Point_Formats is a useful reference page on the precision of single vs. double floats (IEEE754 standard)."
   ]
  },
  {
   "cell_type": "markdown",
   "metadata": {},
   "source": [
    "### A few warm-up examples\n",
    "Just to check that we're understanding both the theory and the Python implementation correctly..."
   ]
  },
  {
   "cell_type": "code",
   "execution_count": null,
   "metadata": {},
   "outputs": [],
   "source": [
    "import numpy as np"
   ]
  },
  {
   "cell_type": "markdown",
   "metadata": {},
   "source": [
    "A single-precision float has a 24-bit significand. This gives it a relative precision of 1 in $2^{24}$, or about 1 in 16 million:"
   ]
  },
  {
   "cell_type": "code",
   "execution_count": null,
   "metadata": {},
   "outputs": [],
   "source": [
    "print(\"1 in {0} ({0:g})\".format(2**(24)))\n",
    "print(\"{:.24f}\".format(1./2**(24)))"
   ]
  },
  {
   "cell_type": "markdown",
   "metadata": {},
   "source": [
    "Note that double-floats have a relative precision of 1 in $2^{53}$, i.e."
   ]
  },
  {
   "cell_type": "code",
   "execution_count": null,
   "metadata": {},
   "outputs": [],
   "source": [
    "print(\"1 in {0} ({0:g})\".format(2**(53)))"
   ]
  },
  {
   "cell_type": "markdown",
   "metadata": {},
   "source": [
    "This has some basic effects on the accuracy of addition (see also [Kahan summation](https://en.wikipedia.org/wiki/Kahan_summation_algorithm)):"
   ]
  },
  {
   "cell_type": "code",
   "execution_count": null,
   "metadata": {},
   "outputs": [],
   "source": [
    "2**24, 2**24+1, 2**24+0.5 #Double precision, gives exact results for these examples"
   ]
  },
  {
   "cell_type": "code",
   "execution_count": null,
   "metadata": {},
   "outputs": [],
   "source": [
    "np.float32(2**24) + np.float32(1) #Single precision, gets rounded down"
   ]
  },
  {
   "cell_type": "code",
   "execution_count": null,
   "metadata": {},
   "outputs": [],
   "source": [
    "np.float32(2**24) + np.float32(2) #Beyond 2**24 the smallest rounding unit is 2"
   ]
  },
  {
   "cell_type": "markdown",
   "metadata": {},
   "source": [
    "Of course, this scales up and down as the exponent varies:"
   ]
  },
  {
   "cell_type": "code",
   "execution_count": null,
   "metadata": {},
   "outputs": [],
   "source": [
    "2**21 + 1./2**3 # double precision,  gives exact results for these examples"
   ]
  },
  {
   "cell_type": "code",
   "execution_count": null,
   "metadata": {},
   "outputs": [],
   "source": [
    "np.float32(2**21) + np.float32(1./2**3)"
   ]
  },
  {
   "cell_type": "code",
   "execution_count": null,
   "metadata": {},
   "outputs": [],
   "source": [
    "1./2**21"
   ]
  },
  {
   "cell_type": "code",
   "execution_count": null,
   "metadata": {},
   "outputs": [],
   "source": [
    "2**2"
   ]
  },
  {
   "cell_type": "code",
   "execution_count": null,
   "metadata": {},
   "outputs": [],
   "source": [
    "print(\"{:.24g}\".format(np.float32(2**2) + np.float32(1./2**21)))"
   ]
  },
  {
   "cell_type": "markdown",
   "metadata": {},
   "source": [
    "### Beware of aggregates\n",
    "One obvious example for transient detection is averaging of visibilities. Assume for now that earlier parts of the data-acquisition / reduction process are sufficiently high-precision that we can treat them as real-number operations, but we drop down to single-float precision for visibility storage. \n",
    "\n",
    "We'll simply treat the combined signal as a real number, with the assumption that the important bits will generalise to complex components.\n",
    "\n",
    "Suppose we take $2^4=32$ integrations and then attempt to average them. Now add a transient signal to one of those integrations. What is the flux of a transient that's on the borderline of being lost due to numerical precision considerations? For single-precision with a ratio of $2^{24}$, we get a borderline flux of $2^{24-4}=2^{20}$, for a dynamic range of around a million:"
   ]
  },
  {
   "cell_type": "code",
   "execution_count": null,
   "metadata": {},
   "outputs": [],
   "source": [
    "2**20"
   ]
  },
  {
   "cell_type": "markdown",
   "metadata": {},
   "source": [
    "So for a steady source flux of 1Jy, the borderline transient source fluence (in the careless / naive case) is now $\\approx$1 $\\mu$Jy:"
   ]
  },
  {
   "cell_type": "code",
   "execution_count": null,
   "metadata": {},
   "outputs": [],
   "source": [
    "1./2**20"
   ]
  },
  {
   "cell_type": "code",
   "execution_count": null,
   "metadata": {},
   "outputs": [],
   "source": [
    "steady_src_flux = 1.\n",
    "n_integrations = 2**4\n",
    "steady_data = steady_src_flux*np.ones(n_integrations, dtype=np.float64)\n",
    "transient_signal = np.zeros_like(steady_data)\n",
    "transient_fluence = 1./2**20\n",
    "transient_signal[0] = transient_fluence\n",
    "print(transient_signal, transient_signal.dtype) "
   ]
  },
  {
   "cell_type": "code",
   "execution_count": null,
   "metadata": {},
   "outputs": [],
   "source": [
    "data = steady_data + transient_signal\n",
    "data"
   ]
  },
  {
   "cell_type": "markdown",
   "metadata": {},
   "source": [
    "Let's recover the transient flux:"
   ]
  },
  {
   "cell_type": "code",
   "execution_count": null,
   "metadata": {},
   "outputs": [],
   "source": [
    "np.mean(data) - steady_src_flux"
   ]
  },
  {
   "cell_type": "markdown",
   "metadata": {},
   "source": [
    "And now working with single-precision:"
   ]
  },
  {
   "cell_type": "code",
   "execution_count": null,
   "metadata": {},
   "outputs": [],
   "source": [
    "single_prec_data = np.asarray(data, dtype=np.float32)\n",
    "single_prec_data "
   ]
  },
  {
   "cell_type": "code",
   "execution_count": null,
   "metadata": {},
   "outputs": [],
   "source": [
    "np.mean(single_prec_data)# Lost the transient to numerical precision"
   ]
  },
  {
   "cell_type": "code",
   "execution_count": null,
   "metadata": {},
   "outputs": [],
   "source": [
    "np.mean(single_prec_data) - steady_src_flux"
   ]
  },
  {
   "cell_type": "markdown",
   "metadata": {},
   "source": [
    "So, if we were searching for the faint transient in the time-averaged (single-precision) image, we'd have no hope - the averaging process has diluted the flux to below the $\\frac{1}{2^{24}}$ precision-ratio limit. The takeaway being that we need to think in terms of **fluence ratios** (or equivalently, time-averaged flux-ratios) for the search-averaging period."
   ]
  },
  {
   "cell_type": "markdown",
   "metadata": {},
   "source": [
    "If we search for transient on the timescale of a single integration, we'll still detect it, so simply need to beware of aggregate statistics:"
   ]
  },
  {
   "cell_type": "code",
   "execution_count": null,
   "metadata": {},
   "outputs": [],
   "source": [
    "residuals = single_prec_data - np.mean(single_prec_data)\n",
    "residuals"
   ]
  },
  {
   "cell_type": "markdown",
   "metadata": {},
   "source": [
    "Note, we could alternatively use higher-precision for aggregate computation:"
   ]
  },
  {
   "cell_type": "code",
   "execution_count": null,
   "metadata": {},
   "outputs": [],
   "source": [
    "np.mean(single_prec_data, dtype=np.float64)"
   ]
  },
  {
   "cell_type": "code",
   "execution_count": null,
   "metadata": {},
   "outputs": [],
   "source": [
    "# For comparison:\n",
    "transient_fluence / n_integrations"
   ]
  },
  {
   "cell_type": "markdown",
   "metadata": {},
   "source": [
    "## Summary:\n",
    "For single-precision floating point, the 'instantaneous' dynamic range is 1 in 16 million. This is preserved so long as care is taken when dealing with aggregate quantities...\n",
    "\n",
    "... Another example of which is the fourier transform (see next notebook)."
   ]
  }
 ],
 "metadata": {
  "language_info": {
   "name": "python",
   "pygments_lexer": "ipython3"
  }
 },
 "nbformat": 4,
 "nbformat_minor": 1
}
