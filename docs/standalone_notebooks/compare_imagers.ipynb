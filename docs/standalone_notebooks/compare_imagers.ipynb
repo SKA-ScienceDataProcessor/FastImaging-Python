{
 "cells": [
  {
   "cell_type": "code",
   "execution_count": null,
   "metadata": {},
   "outputs": [],
   "source": [
    "import numpy as np\n",
    "import os\n",
    "\n",
    "import astropy.units as u\n",
    "import astropy.constants as const\n",
    "import fastimgproto.imager as imager\n",
    "import fastimgproto.visibility as visibility\n",
    "import fastimgproto.gridder.conv_funcs as kfuncs\n",
    "\n",
    "from astropy.coordinates import Angle, SkyCoord, AltAz, EarthLocation\n",
    "from astropy.time import Time\n",
    "\n",
    "from fastimgproto.skymodel.helpers import SkyRegion, SkySource\n",
    "from fastimgproto.sourcefind.image import SourceFindImage\n",
    "from fastimgproto.telescope.readymade import Meerkat\n",
    "from fastimgproto.bindings import cpp_image_visibilities, CppKernelFuncs, CppFFTRoutines, CppInterpolation\n"
   ]
  },
  {
   "cell_type": "code",
   "execution_count": null,
   "metadata": {},
   "outputs": [],
   "source": [
    "import matplotlib.pyplot as plt\n",
    "import matplotlib.image as mpimg\n",
    "%matplotlib inline\n",
    "# Plot image pixels in cartesian ordering (i.e. y-positive == upwards):\n",
    "plt.rcParams['image.origin'] = 'lower'\n",
    "# Make plots bigger\n",
    "plt.rcParams['figure.figsize'] = 10, 10"
   ]
  },
  {
   "cell_type": "code",
   "execution_count": null,
   "metadata": {},
   "outputs": [],
   "source": [
    "telescope = Meerkat()\n",
    "print(\"Telescope with {} antennae == {} baselines\".format(\n",
    "    len(telescope.ant_local_xyz), len(telescope.baseline_local_xyz)))\n",
    "print(\"Centre: {!r}, {!r}\".format(telescope.lon, telescope.lat))"
   ]
  },
  {
   "cell_type": "code",
   "execution_count": null,
   "metadata": {},
   "outputs": [],
   "source": [
    "pointing_centre = SkyCoord(0 * u.deg, -30 * u.deg)\n",
    "obs_central_frequency = 3. * u.GHz\n",
    "wavelength = const.c / obs_central_frequency\n",
    "transit_time = telescope.next_transit(pointing_centre.ra,\n",
    "                                      start_time=Time('2010-01-01'))"
   ]
  },
  {
   "cell_type": "code",
   "execution_count": null,
   "metadata": {},
   "outputs": [],
   "source": [
    "altaz = pointing_centre.transform_to(\n",
    "    AltAz(obstime=transit_time,\n",
    "         location=telescope.centre))\n",
    "altaz.alt.deg"
   ]
  },
  {
   "cell_type": "code",
   "execution_count": null,
   "metadata": {},
   "outputs": [],
   "source": [
    "nstep=10\n",
    "obs_times = transit_time + np.linspace(-1, 1, nstep) * u.hr\n",
    "print(\"Generating UVW-baselines for {} timesteps\".format(nstep))\n",
    "uvw_m, lha = telescope.uvw_tracking_skycoord(pointing_centre, obs_times)\n",
    "# From here on we use UVW as multiples of wavelength, lambda:\n",
    "uvw_lambda = (uvw_m / wavelength).to(u.dimensionless_unscaled).value\n",
    "\n",
    "\n",
    "# Additional source to North-East of pointing centre\n",
    "extra_src_position = SkyCoord(ra=pointing_centre.ra + 0.01 * u.deg,\n",
    "                              dec=pointing_centre.dec + 0.01 * u.deg, )\n",
    "\n",
    "steady_sources = [\n",
    "    SkySource(pointing_centre, flux=1 * u.Jy),\n",
    "    SkySource(extra_src_position, flux=0.4 * u.Jy),\n",
    "]\n",
    "\n",
    "# Simulate incoming data; includes transient sources, noise:\n",
    "print(\"Simulating visibilities\")\n",
    "data_vis = visibility.visibilities_for_source_list(\n",
    "    pointing_centre,\n",
    "    source_list = steady_sources, \n",
    "    uvw = uvw_lambda)\n",
    "\n",
    "vis_noise_level = 0.1 * u.Jy\n",
    "data_vis = visibility.add_gaussian_noise(vis_noise_level, data_vis)"
   ]
  },
  {
   "cell_type": "code",
   "execution_count": null,
   "metadata": {},
   "outputs": [],
   "source": [
    "image_size=1024 * u.pixel\n",
    "cell_size=1 * u.arcsecond"
   ]
  },
  {
   "cell_type": "code",
   "execution_count": null,
   "metadata": {},
   "outputs": [],
   "source": [
    "kernel_support = 3\n",
    "trunc = kernel_support\n",
    "kernel_func = kfuncs.GaussianSinc(trunc=trunc)\n",
    "vis_weights=np.ones(len(data_vis), dtype=np.float_)\n",
    "\n",
    "image, beam = imager.image_visibilities(\n",
    "    data_vis, \n",
    "    vis_weights,\n",
    "    uvw_lambda,\n",
    "    image_size=image_size,\n",
    "    cell_size=cell_size,\n",
    "    kernel_func=kernel_func,\n",
    "    kernel_support=kernel_support,\n",
    "    kernel_exact=True,\n",
    "    kernel_oversampling=None\n",
    "    )\n",
    "re_image = np.real(image)"
   ]
  },
  {
   "cell_type": "code",
   "execution_count": null,
   "metadata": {},
   "outputs": [],
   "source": [
    "import stp_python\n",
    "image_size = image_size.to(u.pix)\n",
    "# Size of a UV-grid pixel, in multiples of wavelength (lambda):\n",
    "grid_pixel_width_lambda = 1.0 / (cell_size.to(u.rad) * image_size)\n",
    "uvw_in_pixels = (uvw_lambda / grid_pixel_width_lambda).value"
   ]
  },
  {
   "cell_type": "code",
   "execution_count": null,
   "metadata": {},
   "outputs": [],
   "source": [
    "bind_image, bind_beam = cpp_image_visibilities(\n",
    "    data_vis,\n",
    "    vis_weights,\n",
    "    uvw_lambda,\n",
    "    image_size=image_size,\n",
    "    cell_size=cell_size,\n",
    "    kernel_func_name=CppKernelFuncs.gauss_sinc,\n",
    "    kernel_support=kernel_support,\n",
    "    kernel_exact=True,\n",
    "    kernel_oversampling=None\n",
    "    )"
   ]
  },
  {
   "cell_type": "code",
   "execution_count": null,
   "metadata": {},
   "outputs": [],
   "source": [
    "bind_diffmax = np.max(np.abs(image-bind_image))\n",
    "print(bind_diffmax)\n",
    "bind_re_diffmax = np.max(np.abs(np.real(image-bind_image)))\n",
    "print(bind_re_diffmax)\n",
    "# assert cpp_diffmax < 2e-15"
   ]
  },
  {
   "cell_type": "markdown",
   "metadata": {},
   "source": [
    "Save visibilities to file and attempt to run standalone imager executable:"
   ]
  },
  {
   "cell_type": "code",
   "execution_count": null,
   "metadata": {},
   "outputs": [],
   "source": [
    "vis_filepath = 'viz.npz'\n",
    "with open(vis_filepath, 'wb') as f:\n",
    "    np.savez(f,\n",
    "         uvw_lambda=uvw_lambda,\n",
    "         model=data_vis,\n",
    "         vis=data_vis,\n",
    "         )"
   ]
  },
  {
   "cell_type": "code",
   "execution_count": null,
   "metadata": {},
   "outputs": [],
   "source": [
    "from fastimgproto.scripts.config import make_config\n",
    "cpp_config_filepath = 'cpp_config.json'\n",
    "with open(cpp_config_filepath, 'w') as f:\n",
    "    make_config(f)"
   ]
  },
  {
   "cell_type": "code",
   "execution_count": null,
   "metadata": {},
   "outputs": [],
   "source": [
    "import subprocess\n",
    "cpp_image_filepath = 'cpp_img.npz'\n",
    "result = subprocess.check_call([\n",
    "    'fastimg_cpp_imagevis',\n",
    "     cpp_config_filepath,\n",
    "     vis_filepath,\n",
    "     cpp_image_filepath\n",
    "    ]\n",
    ")\n",
    "result"
   ]
  },
  {
   "cell_type": "code",
   "execution_count": null,
   "metadata": {},
   "outputs": [],
   "source": [
    "with open(cpp_image_filepath, 'rb') as f:\n",
    "    cpp_imgdata = np.load(f)\n",
    "    cpp_image = cpp_imgdata['image']"
   ]
  },
  {
   "cell_type": "code",
   "execution_count": null,
   "metadata": {},
   "outputs": [],
   "source": [
    "cpp_image = np.real(cpp_image)"
   ]
  },
  {
   "cell_type": "code",
   "execution_count": null,
   "metadata": {},
   "outputs": [],
   "source": [
    "cpp_diffmax = np.max(np.abs(image-cpp_image))\n",
    "print(cpp_diffmax)\n",
    "cpp_re_diffmax = np.max(np.abs(np.real(image-cpp_image)))\n",
    "print(cpp_re_diffmax)\n",
    "# assert cpp_diffmax < 2e-15"
   ]
  },
  {
   "cell_type": "code",
   "execution_count": null,
   "metadata": {},
   "outputs": [],
   "source": [
    "fig, ax = plt.subplots(1,2)\n",
    "axlims = 400, 600\n",
    "def plot_on_ax(ax,img):\n",
    "    im = ax.imshow(np.real(img))\n",
    "    ax.set_xlim(axlims)\n",
    "    ax.set_ylim(axlims)\n",
    "#     fig.colorbar(im)\n",
    "plot_on_ax(ax[0], image)\n",
    "plot_on_ax(ax[1], bind_image)"
   ]
  },
  {
   "cell_type": "code",
   "execution_count": null,
   "metadata": {},
   "outputs": [],
   "source": [
    "fig, ax1 = plt.subplots(1,1)\n",
    "im = ax1.imshow(np.real(bind_image-image))\n",
    "axlims = 400, 600\n",
    "ax1.set_xlim(axlims)\n",
    "ax1.set_ylim(axlims)\n",
    "fig.colorbar(im)"
   ]
  },
  {
   "cell_type": "code",
   "execution_count": null,
   "metadata": {},
   "outputs": [],
   "source": []
  },
  {
   "cell_type": "code",
   "execution_count": null,
   "metadata": {},
   "outputs": [],
   "source": []
  }
 ],
 "metadata": {
  "language_info": {
   "name": "python",
   "pygments_lexer": "ipython3"
  }
 },
 "nbformat": 4,
 "nbformat_minor": 1
}
