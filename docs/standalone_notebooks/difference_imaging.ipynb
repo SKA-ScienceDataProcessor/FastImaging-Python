{
 "cells": [
  {
   "cell_type": "markdown",
   "metadata": {},
   "source": [
    "# Data-simulation, difference-imaging and sourcefinding\n",
    "\n",
    "A tweakable end-to-end runthrough"
   ]
  },
  {
   "cell_type": "code",
   "execution_count": null,
   "metadata": {},
   "outputs": [],
   "source": [
    "import numpy as np\n",
    "import logging\n",
    "import os\n",
    "\n",
    "import astropy.units as u\n",
    "import astropy.constants as const\n",
    "import fastimgproto.imager as imager\n",
    "import fastimgproto.visibility as visibility\n",
    "\n",
    "from astropy.coordinates import Angle, SkyCoord, AltAz, EarthLocation\n",
    "from astropy.time import Time\n",
    "from fastimgproto.gridder.conv_funcs import GaussianSinc, PSWF\n",
    "from fastimgproto.skymodel.helpers import SkyRegion, SkySource\n",
    "from fastimgproto.sourcefind.image import SourceFindImage\n",
    "from fastimgproto.telescope.readymade import Meerkat"
   ]
  },
  {
   "cell_type": "code",
   "execution_count": null,
   "metadata": {},
   "outputs": [],
   "source": [
    "import matplotlib.pyplot as plt\n",
    "import matplotlib.image as mpimg\n",
    "%matplotlib inline\n",
    "# Plot image pixels in cartesian ordering (i.e. y-positive == upwards):\n",
    "plt.rcParams['image.origin'] = 'lower'\n",
    "# Make plots bigger\n",
    "plt.rcParams['figure.figsize'] = 10, 10"
   ]
  },
  {
   "cell_type": "markdown",
   "metadata": {},
   "source": [
    "## Set up the telescope"
   ]
  },
  {
   "cell_type": "code",
   "execution_count": null,
   "metadata": {},
   "outputs": [],
   "source": [
    "telescope = Meerkat()"
   ]
  },
  {
   "cell_type": "code",
   "execution_count": null,
   "metadata": {},
   "outputs": [],
   "source": [
    "pointing_centre = SkyCoord(0 * u.deg, -30 * u.deg)\n",
    "obs_central_frequency = 3. * u.GHz\n",
    "wavelength = const.c / obs_central_frequency\n",
    "transit_time = telescope.next_transit(pointing_centre.ra,\n",
    "                                      start_time=Time('2017-01-01'))"
   ]
  },
  {
   "cell_type": "markdown",
   "metadata": {},
   "source": [
    "Choose the observation times / sampling regime"
   ]
  },
  {
   "cell_type": "code",
   "execution_count": null,
   "metadata": {},
   "outputs": [],
   "source": [
    "nstep=10\n",
    "obs_times = transit_time + np.linspace(-1, 1, nstep) * u.hr\n",
    "print(\"Generating UVW-baselines for {} timesteps\".format(nstep))\n",
    "uvw_m, lha = telescope.uvw_tracking_skycoord(pointing_centre, obs_times)\n",
    "# From here on we use UVW as multiples of wavelength, lambda:\n",
    "uvw_lambda = (uvw_m / wavelength).to(u.dimensionless_unscaled).value"
   ]
  },
  {
   "cell_type": "markdown",
   "metadata": {},
   "source": [
    "## Configure the sources to simulate"
   ]
  },
  {
   "cell_type": "markdown",
   "metadata": {},
   "source": [
    "Steady sources - one at pointing centre, one at a small offset:"
   ]
  },
  {
   "cell_type": "code",
   "execution_count": null,
   "metadata": {},
   "outputs": [],
   "source": [
    "# Additional source to North-East of pointing centre\n",
    "extra_src_position = SkyCoord(ra=pointing_centre.ra + 0.01 * u.deg,\n",
    "                              dec=pointing_centre.dec + 0.01 * u.deg, )\n",
    "\n",
    "steady_sources = [\n",
    "    SkySource(pointing_centre, flux=1 * u.Jy),\n",
    "    SkySource(extra_src_position, flux=0.4 * u.Jy),\n",
    "]"
   ]
  },
  {
   "cell_type": "markdown",
   "metadata": {},
   "source": [
    "And a transient source"
   ]
  },
  {
   "cell_type": "code",
   "execution_count": null,
   "metadata": {},
   "outputs": [],
   "source": [
    "transient_posn = SkyCoord(\n",
    "    ra=pointing_centre.ra - 0.05 * u.deg,\n",
    "    dec=pointing_centre.dec - 0.05 * u.deg)\n",
    "transient_sources = [\n",
    "    SkySource(position=transient_posn, flux=0.5 * u.Jy),\n",
    "]"
   ]
  },
  {
   "cell_type": "code",
   "execution_count": null,
   "metadata": {},
   "outputs": [],
   "source": [
    "model_sources = steady_sources"
   ]
  },
  {
   "cell_type": "code",
   "execution_count": null,
   "metadata": {},
   "outputs": [],
   "source": [
    "data_sources = steady_sources\n",
    "# data_sources = steady_sources + transient_sources\n",
    "# Simulate some jitter (positional offsets) due to ionospheric effects (or pointing-errors or whatever)\n",
    "# (ra, dec)\n",
    "\n",
    "jitter = (0.5*u.arcsec, -0.5*u.arcsec)\n",
    "jitter_sources = []\n",
    "for src in data_sources:\n",
    "    jitter_src = SkySource(position=SkyCoord(ra = src.position.ra + jitter[0], \n",
    "                                             dec= src.position.dec+jitter[1]),\n",
    "                           flux = src.flux\n",
    "                          )\n",
    "    jitter_sources.append(jitter_src)\n"
   ]
  },
  {
   "cell_type": "code",
   "execution_count": null,
   "metadata": {},
   "outputs": [],
   "source": [
    "data_sources"
   ]
  },
  {
   "cell_type": "code",
   "execution_count": null,
   "metadata": {},
   "outputs": [],
   "source": [
    "jitter_sources"
   ]
  },
  {
   "cell_type": "markdown",
   "metadata": {},
   "source": [
    "## Simulate visibilities, given the source-list and UVW baseline info:"
   ]
  },
  {
   "cell_type": "code",
   "execution_count": null,
   "metadata": {},
   "outputs": [],
   "source": [
    "model_vis = visibility.visibilities_for_source_list(\n",
    "    pointing_centre,\n",
    "    source_list = model_sources, \n",
    "    uvw = uvw_lambda)\n"
   ]
  },
  {
   "cell_type": "code",
   "execution_count": null,
   "metadata": {},
   "outputs": [],
   "source": [
    "# Simulate incoming data; includes transient sources, noise:\n",
    "baseline_noise_level = 0.1 * u.Jy\n",
    "\n",
    "data_vis = visibility.visibilities_for_source_list(\n",
    "    pointing_centre,\n",
    "#     source_list = data_sources, \n",
    "    source_list = jitter_sources,\n",
    "    uvw = uvw_lambda)\n",
    "\n",
    "data_vis = visibility.add_gaussian_noise(baseline_noise_level, data_vis)\n",
    "\n",
    "residual_vis = data_vis - model_vis\n",
    "\n",
    "snr_weights = np.ones_like(residual_vis,dtype=np.float_)"
   ]
  },
  {
   "cell_type": "markdown",
   "metadata": {},
   "source": [
    "## Configure and run the imager"
   ]
  },
  {
   "cell_type": "code",
   "execution_count": null,
   "metadata": {},
   "outputs": [],
   "source": [
    "image_size=1024 * u.pixel\n",
    "cell_size=1 * u.arcsecond"
   ]
  },
  {
   "cell_type": "code",
   "execution_count": null,
   "metadata": {},
   "outputs": [],
   "source": [
    "kernel_support = 3\n",
    "kernel_func = GaussianSinc(trunc=kernel_support)"
   ]
  },
  {
   "cell_type": "code",
   "execution_count": null,
   "metadata": {},
   "outputs": [],
   "source": [
    "image, beam = imager.image_visibilities(\n",
    "#     model_vis, \n",
    "#     data_vis,\n",
    "    residual_vis,\n",
    "    snr_weights,\n",
    "    uvw_lambda,\n",
    "    image_size=image_size,\n",
    "    cell_size=cell_size,\n",
    "    kernel_func=kernel_func,\n",
    "    kernel_support=kernel_support,\n",
    "    kernel_exact=True,\n",
    "    kernel_oversampling=None\n",
    "    )\n",
    "image = np.real(image)\n",
    "beam = np.real(beam)"
   ]
  },
  {
   "cell_type": "markdown",
   "metadata": {},
   "source": [
    "## Plot the image and beam-pattern"
   ]
  },
  {
   "cell_type": "code",
   "execution_count": null,
   "metadata": {},
   "outputs": [],
   "source": [
    "# %matplotlib notebook\n",
    "%matplotlib inline\n",
    "fig, axes = plt.subplots(ncols=2, figsize=(12,8))\n",
    "clim = (-0.1, 0.7)\n",
    "# xlim = (250,750)\n",
    "xlim = (450,550)\n",
    "# xlim = (550,800)\n",
    "ylim = xlim\n",
    "\n",
    "img_ax, bm_ax = axes\n",
    "im_plot = img_ax.imshow(image,clim=clim)\n",
    "bm_ax.imshow(beam,clim=clim)\n",
    "\n",
    "img_ax.set_xlim(*xlim)\n",
    "img_ax.set_ylim(*ylim)\n",
    "img_ax.set_title('image')\n",
    "\n",
    "x_range = xlim[1]-xlim[0]\n",
    "y_range = ylim[1]-ylim[0]\n",
    "beam_xlim = ( beam.shape[1]/2 - x_range/2, beam.shape[1]/2 + x_range/2)\n",
    "beam_ylim = ( beam.shape[0]/2 - y_range/2, beam.shape[0]/2 + y_range/2)\n",
    "bm_ax.set_xlim(beam_xlim)\n",
    "bm_ax.set_ylim(beam_ylim)\n",
    "bm_ax.set_title('beam (matched zoom)')\n",
    "\n",
    "fig.subplots_adjust(right=0.8)\n",
    "cbar_ax = fig.add_axes([0.85, 0.15, 0.05, 0.7])\n",
    "fig.colorbar(im_plot, cax=cbar_ax)\n",
    "beam_xlim, beam_ylim"
   ]
  },
  {
   "cell_type": "markdown",
   "metadata": {},
   "source": [
    "Export the image-data to a FITS-file for closer inspection:"
   ]
  },
  {
   "cell_type": "code",
   "execution_count": null,
   "metadata": {},
   "outputs": [],
   "source": [
    "import astropy.io.fits as fits\n",
    "hdu = fits.PrimaryHDU(image)\n",
    "# hdu.writeto('image.fits')"
   ]
  },
  {
   "cell_type": "markdown",
   "metadata": {},
   "source": [
    "## Sourcefinding"
   ]
  },
  {
   "cell_type": "code",
   "execution_count": null,
   "metadata": {},
   "outputs": [],
   "source": [
    "from fastimgproto.sourcefind.image import SourceFindImage"
   ]
  },
  {
   "cell_type": "code",
   "execution_count": null,
   "metadata": {},
   "outputs": [],
   "source": [
    "detection_n_sigma=30\n",
    "analysis_n_sigma=15\n",
    "sfimage = SourceFindImage(data=np.real(image),\n",
    "                          detection_n_sigma=detection_n_sigma,\n",
    "                          analysis_n_sigma=analysis_n_sigma,\n",
    "                          )"
   ]
  },
  {
   "cell_type": "code",
   "execution_count": null,
   "metadata": {},
   "outputs": [],
   "source": [
    "sfimage.islands"
   ]
  },
  {
   "cell_type": "code",
   "execution_count": null,
   "metadata": {},
   "outputs": [],
   "source": [
    "src = sfimage.islands[0]"
   ]
  },
  {
   "cell_type": "markdown",
   "metadata": {},
   "source": [
    "### Plot a zoom-in on the first detected source:"
   ]
  },
  {
   "cell_type": "code",
   "execution_count": null,
   "metadata": {},
   "outputs": [],
   "source": [
    "fig, ax1 = plt.subplots(1,1)\n",
    "ax1.imshow(image)\n",
    "half_width = 75\n",
    "xlims = int(src.params.moments_fit.x_centre)-half_width, int(src.params.moments_fit.x_centre)+half_width\n",
    "ylims = int(src.params.moments_fit.y_centre)-half_width, int(src.params.moments_fit.y_centre)+half_width\n",
    "ax1.set_xlim(xlims)\n",
    "ax1.set_ylim(ylims)\n",
    "for src in sfimage.islands:\n",
    "    ax1.axvline(src.params.moments_fit.x_centre, ls=':')\n",
    "    ax1.axhline(src.params.moments_fit.y_centre, ls=':')"
   ]
  }
 ],
 "metadata": {
  "language_info": {
   "name": "python",
   "pygments_lexer": "ipython3"
  }
 },
 "nbformat": 4,
 "nbformat_minor": 1
}
