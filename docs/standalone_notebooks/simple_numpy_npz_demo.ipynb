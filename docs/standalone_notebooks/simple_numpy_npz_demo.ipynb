{
 "cells": [
  {
   "cell_type": "code",
   "execution_count": null,
   "metadata": {
    "collapsed": true
   },
   "outputs": [],
   "source": [
    "import numpy as np\n",
    "import os"
   ]
  },
  {
   "cell_type": "markdown",
   "metadata": {},
   "source": [
    "Generate some basic numpy arrays for testing:"
   ]
  },
  {
   "cell_type": "code",
   "execution_count": null,
   "metadata": {
    "collapsed": false
   },
   "outputs": [],
   "source": [
    "1j*np.sin(np.arange(10)/np.pi)"
   ]
  },
  {
   "cell_type": "code",
   "execution_count": null,
   "metadata": {
    "collapsed": false
   },
   "outputs": [],
   "source": [
    "array_float_1d = np.arange(10, dtype=np.float_)\n",
    "array_complex_1d = np.ones(10, dtype=np.complex_)\n",
    "array_complex_1d *=np.exp(1j*np.arange(10)/np.pi)\n",
    "array_complex_1d"
   ]
  },
  {
   "cell_type": "code",
   "execution_count": null,
   "metadata": {
    "collapsed": false
   },
   "outputs": [],
   "source": [
    "array_float_2d = np.arange(12,dtype=np.float_).reshape(4,3)\n",
    "array_float_2d "
   ]
  },
  {
   "cell_type": "code",
   "execution_count": null,
   "metadata": {
    "collapsed": false
   },
   "outputs": [],
   "source": [
    "array_complex_2d = array_complex_1d.reshape(2,5)\n",
    "array_complex_2d "
   ]
  },
  {
   "cell_type": "code",
   "execution_count": null,
   "metadata": {
    "collapsed": true
   },
   "outputs": [],
   "source": [
    "output_dir = 'numpy_sample_data'\n",
    "if not os.path.isdir(output_dir):\n",
    "    os.makedirs(output_dir)"
   ]
  },
  {
   "cell_type": "code",
   "execution_count": null,
   "metadata": {
    "collapsed": false
   },
   "outputs": [],
   "source": [
    "savenames = {\n",
    "    'float_1d':array_float_1d,\n",
    "    'float_2d': array_float_2d,\n",
    "    'complex_1d': array_complex_1d,\n",
    "    'complex_2d': array_complex_2d,\n",
    "}\n",
    "for filename, array in savenames.items():\n",
    "    with open(os.path.join(output_dir,filename+'.npy'), 'w') as f:\n",
    "        np.save(f, array_complex_1d)"
   ]
  },
  {
   "cell_type": "markdown",
   "metadata": {},
   "source": [
    "Quick example of multiple arrays in one npz file:"
   ]
  },
  {
   "cell_type": "code",
   "execution_count": null,
   "metadata": {
    "collapsed": false
   },
   "outputs": [],
   "source": [
    "mock_uvw = np.arange(30,dtype=np.float_).reshape(10,3)/2.\n",
    "mock_uvw"
   ]
  },
  {
   "cell_type": "code",
   "execution_count": null,
   "metadata": {
    "collapsed": false
   },
   "outputs": [],
   "source": [
    "outfile = os.path.join(output_dir, 'mock_uvw_vis.npz')\n",
    "with open(outfile, 'w') as f:\n",
    "    np.savez(f, uvw=mock_uvw, vis=array_complex_1d)"
   ]
  },
  {
   "cell_type": "markdown",
   "metadata": {},
   "source": [
    "And to load:"
   ]
  },
  {
   "cell_type": "code",
   "execution_count": null,
   "metadata": {
    "collapsed": false
   },
   "outputs": [],
   "source": [
    "with open(os.path.join(output_dir,'complex_2d'+'.npy')) as f:\n",
    "    loaded = np.load(f)\n",
    "loaded"
   ]
  },
  {
   "cell_type": "code",
   "execution_count": null,
   "metadata": {
    "collapsed": false
   },
   "outputs": [],
   "source": [
    "outfile = os.path.join(output_dir, 'mock_uvw_vis.npz')\n",
    "with open(outfile) as f:\n",
    "    loaded = dict(np.load(f).items())\n",
    "loaded.keys()"
   ]
  },
  {
   "cell_type": "code",
   "execution_count": null,
   "metadata": {
    "collapsed": false
   },
   "outputs": [],
   "source": [
    "loaded['uvw']"
   ]
  },
  {
   "cell_type": "code",
   "execution_count": null,
   "metadata": {
    "collapsed": false
   },
   "outputs": [],
   "source": [
    "loaded['vis']"
   ]
  }
 ],
 "metadata": {
  "kernelspec": {
   "display_name": "Python 2",
   "language": "python",
   "name": "python2"
  },
  "language_info": {
   "codemirror_mode": {
    "name": "ipython",
    "version": 2
   },
   "file_extension": ".py",
   "mimetype": "text/x-python",
   "name": "python",
   "nbconvert_exporter": "python",
   "pygments_lexer": "ipython2",
   "version": "2.7.6"
  }
 },
 "nbformat": 4,
 "nbformat_minor": 1
}
