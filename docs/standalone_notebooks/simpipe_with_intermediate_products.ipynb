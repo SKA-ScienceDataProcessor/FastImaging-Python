{
 "cells": [
  {
   "cell_type": "code",
   "execution_count": null,
   "metadata": {
    "collapsed": false
   },
   "outputs": [],
   "source": [
    "import astropy.units as u\n",
    "import click\n",
    "import fastimgproto.casa.io as casa_io\n",
    "import fastimgproto.casa.simulation as casa_sim\n",
    "import fastimgproto.imager as imager\n",
    "import fastimgproto.visibility as visibility\n",
    "from astropy.coordinates import Angle, SkyCoord\n",
    "from fastimgproto.gridder.conv_funcs import GaussianSinc\n",
    "from fastimgproto.skymodel.helpers import SkyRegion, SkySource\n",
    "from fastimgproto.sourcefind.image import SourceFindImage\n",
    "import numpy as np\n",
    "import logging\n",
    "import os"
   ]
  },
  {
   "cell_type": "code",
   "execution_count": null,
   "metadata": {
    "collapsed": true
   },
   "outputs": [],
   "source": [
    "import matplotlib.pyplot as plt\n",
    "import matplotlib.image as mpimg\n",
    "%matplotlib inline\n",
    "# Plot image pixels in cartesian ordering (i.e. y-positive == upwards):\n",
    "plt.rcParams['image.origin'] = 'lower'\n",
    "# Make plots bigger\n",
    "plt.rcParams['figure.figsize'] = 10, 10"
   ]
  },
  {
   "cell_type": "code",
   "execution_count": null,
   "metadata": {
    "collapsed": true
   },
   "outputs": [],
   "source": [
    "casavis_path = 'vis.ms'\n",
    "uvw_path = 'uvw.npz'\n",
    "load_uvw = False\n",
    "image_size=1024 * u.pixel\n",
    "cell_size=3 * u.arcsecond\n"
   ]
  },
  {
   "cell_type": "code",
   "execution_count": null,
   "metadata": {
    "collapsed": false
   },
   "outputs": [],
   "source": [
    "logging.basicConfig(level=logging.DEBUG)\n",
    "\n",
    "pointing_centre = SkyCoord(180 * u.deg, 8 * u.deg)\n",
    "field_of_view = SkyRegion(pointing_centre,\n",
    "                          radius=Angle(1 * u.deg))\n",
    "\n",
    "# source_list = get_lsm(field_of_view)\n",
    "# source_list = get_spiral_source_test_pattern(field_of_view)\n",
    "northeast_of_centre = SkyCoord(\n",
    "    ra=pointing_centre.ra + 0.01 * u.deg,\n",
    "    dec=pointing_centre.dec + 0.01 * u.deg, )\n",
    "steady_source_list = [\n",
    "    SkySource(position=pointing_centre, flux=1 * u.Jy),\n",
    "    SkySource(position=northeast_of_centre, flux=0.4 * u.Jy),\n",
    "]\n",
    "\n",
    "southwest_of_centre = SkyCoord(\n",
    "    ra=field_of_view.centre.ra - 0.05 * u.deg,\n",
    "    dec=field_of_view.centre.dec - 0.05 * u.deg)\n",
    "transient_source_list = [\n",
    "    SkySource(position=southwest_of_centre, flux=0.5 * u.Jy),\n",
    "]\n",
    "\n",
    "# Std. dev of Gaussian noise added to visibilities for each baseline:\n",
    "# (Jointly normal, i.e. independently added to real / imaginary components.)\n",
    "vis_noise_level = 0.001 * u.Jy\n",
    "\n",
    "# Simulate visibilities using casapy to generate a set of UVW baselines.\n",
    "# (This is next on the list for a 'from scratch' implementation,\n",
    "# at which point the CASA / casacore dependency becomes purely optional, for\n",
    "# cross-validation purposes.)\n",
    "if not load_uvw:\n",
    "    for path in uvw_path, casavis_path:\n",
    "        output_dir = os.path.dirname(os.path.abspath(path))\n",
    "        if not os.path.isdir(output_dir):\n",
    "            os.makedirs(output_dir)\n",
    "    casa_output = casa_sim.simulate_vis_with_casa(pointing_centre,\n",
    "                                                  steady_source_list,\n",
    "                                                  # source_list_w_transient,\n",
    "                                                  noise_std_dev=vis_noise_level,\n",
    "                                                  vis_path=casavis_path)\n",
    "    uvw_lambda = casa_io.get_uvw_in_lambda(casavis_path)\n",
    "    with open(uvw_path, 'wb') as f:\n",
    "        np.savez(f, uvw_lambda=uvw_lambda)\n",
    "else:\n",
    "    with open(uvw_path, 'rb') as f:\n",
    "        npz_content = np.load(f)\n",
    "        uvw_lambda = npz_content['uvw_lambda']\n",
    "\n"
   ]
  },
  {
   "cell_type": "code",
   "execution_count": null,
   "metadata": {
    "collapsed": false
   },
   "outputs": [],
   "source": [
    "source_list_w_transient = steady_source_list + transient_source_list\n",
    "\n",
    "# Now use UVW to generate visibilities from scratch...\n",
    "# Represent incoming data; includes transient sources, noise:\n",
    "data_vis = visibility.calculated_summed_vis(\n",
    "    pointing_centre, source_list_w_transient, uvw_lambda)\n",
    "data_vis = visibility.add_gaussian_noise(vis_noise_level, data_vis)\n",
    "\n",
    "# Model vis; only steady sources from the catalog, noise free.\n",
    "model_vis = visibility.calculated_summed_vis(\n",
    "    pointing_centre, steady_source_list, uvw_lambda)\n",
    "\n",
    "# Subtract model-generated visibilities from incoming data\n",
    "residual_vis = data_vis - model_vis\n",
    "\n",
    "# Will move this to a config option later\n",
    "kernel_support = 3\n",
    "kernel_func = GaussianSinc(trunc=kernel_support)\n"
   ]
  },
  {
   "cell_type": "code",
   "execution_count": null,
   "metadata": {
    "collapsed": true
   },
   "outputs": [],
   "source": [
    "data_image, beam = imager.image_visibilities(data_vis, uvw_lambda,\n",
    "                                        image_size=image_size,\n",
    "                                        cell_size=cell_size,\n",
    "                                        kernel_func=kernel_func,\n",
    "                                        kernel_support=kernel_support,\n",
    "                                        kernel_oversampling=None)\n"
   ]
  },
  {
   "cell_type": "code",
   "execution_count": null,
   "metadata": {
    "collapsed": false
   },
   "outputs": [],
   "source": [
    "plt.imshow(np.real(data_image))"
   ]
  },
  {
   "cell_type": "code",
   "execution_count": null,
   "metadata": {
    "collapsed": false
   },
   "outputs": [],
   "source": [
    "resids_image, beam = imager.image_visibilities(residual_vis, uvw_lambda,\n",
    "                                        image_size=image_size,\n",
    "                                        cell_size=cell_size,\n",
    "                                        kernel_func=kernel_func,\n",
    "                                        kernel_support=kernel_support,\n",
    "                                        kernel_oversampling=None)\n",
    "\n"
   ]
  },
  {
   "cell_type": "code",
   "execution_count": null,
   "metadata": {
    "collapsed": true
   },
   "outputs": [],
   "source": [
    "# detection_n_sigma=30\n",
    "detection_n_sigma=50\n",
    "analysis_n_sigma=25\n",
    "sfimage = SourceFindImage(data=np.real(resids_image),\n",
    "                          detection_n_sigma=detection_n_sigma,\n",
    "                          analysis_n_sigma=analysis_n_sigma,\n",
    "                          )"
   ]
  },
  {
   "cell_type": "code",
   "execution_count": null,
   "metadata": {
    "collapsed": false
   },
   "outputs": [],
   "source": [
    "sfimage.islands"
   ]
  },
  {
   "cell_type": "code",
   "execution_count": null,
   "metadata": {
    "collapsed": false
   },
   "outputs": [],
   "source": [
    "plt.imshow(sfimage.data)\n",
    "for island in sfimage.islands:\n",
    "#     plt.scatter(island.xbar,island.ybar, marker='*', s=100, c='y',)\n",
    "    pass"
   ]
  },
  {
   "cell_type": "code",
   "execution_count": null,
   "metadata": {
    "collapsed": true
   },
   "outputs": [],
   "source": []
  }
 ],
 "metadata": {
  "kernelspec": {
   "display_name": "Python 2",
   "language": "python",
   "name": "python2"
  },
  "language_info": {
   "codemirror_mode": {
    "name": "ipython",
    "version": 2
   },
   "file_extension": ".py",
   "mimetype": "text/x-python",
   "name": "python",
   "nbconvert_exporter": "python",
   "pygments_lexer": "ipython2",
   "version": "2.7.6"
  }
 },
 "nbformat": 4,
 "nbformat_minor": 1
}
