{
 "cells": [
  {
   "cell_type": "code",
   "execution_count": null,
   "metadata": {},
   "outputs": [],
   "source": [
    "%load_ext autoreload\n",
    "%autoreload 2"
   ]
  },
  {
   "cell_type": "code",
   "execution_count": null,
   "metadata": {},
   "outputs": [],
   "source": [
    "from __future__ import print_function\n",
    "\n",
    "import math\n",
    "\n",
    "import numpy as np\n",
    "import matplotlib.pyplot as plt\n",
    "from pytest import approx\n",
    "\n",
    "from fastimgproto.fixtures.image import (\n",
    "    add_gaussian2d_to_image,\n",
    "    gaussian_point_source,\n",
    ")\n",
    "from fastimgproto.fixtures.sourcefind import random_sources_on_grid\n",
    "from fastimgproto.sourcefind.fit import Gaussian2dParams\n",
    "from fastimgproto.sourcefind.image import SourceFindImage\n",
    "\n",
    "from fastimgproto.fixtures.sourcefind import (\n",
    "    generate_random_source_params,\n",
    "    check_single_source_extraction_successful,\n",
    ")\n",
    "\n",
    "import logging\n",
    "import datetime\n",
    "\n",
    "logger = logging.getLogger(__name__)"
   ]
  },
  {
   "cell_type": "code",
   "execution_count": null,
   "metadata": {},
   "outputs": [],
   "source": [
    "amplitude_range = (6., 42.)\n",
    "semiminor_range = (1.2, 2.5)\n",
    "axis_ratio_range = (1., 2.)\n",
    "seed = 123456"
   ]
  },
  {
   "cell_type": "code",
   "execution_count": null,
   "metadata": {},
   "outputs": [],
   "source": [
    "image_size = 1024\n",
    "n_sources = 64"
   ]
  },
  {
   "cell_type": "code",
   "execution_count": null,
   "metadata": {},
   "outputs": [],
   "source": [
    "def generate_test_image(image_size, n_sources, seed=None):\n",
    "    image = np.zeros((image_size, image_size), dtype=np.float_)\n",
    "    sources = random_sources_on_grid(image_size,\n",
    "                                     n_sources,\n",
    "                                     amplitude_range=amplitude_range,\n",
    "                                     semiminor_range=semiminor_range,\n",
    "                                     axis_ratio_range=axis_ratio_range,\n",
    "                                     seed=seed\n",
    "                                     )\n",
    "    for s in sources:\n",
    "        add_gaussian2d_to_image(s, image)\n",
    "    return image"
   ]
  },
  {
   "cell_type": "code",
   "execution_count": null,
   "metadata": {},
   "outputs": [],
   "source": [
    "image = generate_test_image(image_size=2048, n_sources=64, seed=seed)"
   ]
  },
  {
   "cell_type": "code",
   "execution_count": null,
   "metadata": {},
   "outputs": [],
   "source": [
    "def time_native_sourcefinding(image):\n",
    "    start = datetime.datetime.now()\n",
    "    sfimg = SourceFindImage(image, detection_n_sigma=5, analysis_n_sigma=3, rms_est=1.)\n",
    "    extraction_complete = datetime.datetime.now()\n",
    "    sfimg.fit_islands()\n",
    "    fitting_complete = datetime.datetime.now()\n",
    "    extraction_duration =  (extraction_complete - start).total_seconds()\n",
    "    total_duration =  (fitting_complete - start).total_seconds()\n",
    "    return extraction_duration, total_duration"
   ]
  },
  {
   "cell_type": "code",
   "execution_count": null,
   "metadata": {},
   "outputs": [],
   "source": [
    "time_native_sourcefinding(image)"
   ]
  },
  {
   "cell_type": "code",
   "execution_count": null,
   "metadata": {},
   "outputs": [],
   "source": [
    "%%time\n",
    "images_w_64_sources = [ generate_test_image(image_size=sz, n_sources=64)\n",
    "                      for sz in (512, 1024, 2048, 4096)]"
   ]
  },
  {
   "cell_type": "code",
   "execution_count": null,
   "metadata": {},
   "outputs": [],
   "source": []
  },
  {
   "cell_type": "code",
   "execution_count": null,
   "metadata": {},
   "outputs": [],
   "source": []
  }
 ],
 "metadata": {
  "language_info": {
   "name": "python",
   "pygments_lexer": "ipython3"
  }
 },
 "nbformat": 4,
 "nbformat_minor": 1
}
