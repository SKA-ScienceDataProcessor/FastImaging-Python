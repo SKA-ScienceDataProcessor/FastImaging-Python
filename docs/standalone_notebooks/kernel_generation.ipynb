{
 "cells": [
  {
   "cell_type": "code",
   "execution_count": null,
   "metadata": {},
   "outputs": [],
   "source": [
    "import matplotlib.pyplot as plt\n",
    "import matplotlib.image as mpimg\n",
    "import numpy as np\n",
    "import fastimgproto.gridder.conv_funcs as conv_funcs\n",
    "from fastimgproto.gridder.kernel_generation import Kernel"
   ]
  },
  {
   "cell_type": "code",
   "execution_count": null,
   "metadata": {},
   "outputs": [],
   "source": [
    "%matplotlib notebook\n",
    "# Plot image pixels in cartesian ordering (i.e. y-positive == upwards):\n",
    "plt.rcParams['image.origin'] = 'lower'\n",
    "# Make plots bigger\n",
    "plt.rcParams['figure.figsize'] = 6, 6"
   ]
  },
  {
   "cell_type": "code",
   "execution_count": null,
   "metadata": {},
   "outputs": [],
   "source": [
    "# testfunc = conv_funcs.Triangle(half_base_width=1.)\n",
    "# support = 1\n",
    "# oversampling = 5\n",
    "\n",
    "testfunc = conv_funcs.Pillbox(half_base_width=0.25)\n",
    "support = 1\n",
    "oversampling = 5\n",
    "offset =(0.4, 0.0)"
   ]
  },
  {
   "cell_type": "code",
   "execution_count": null,
   "metadata": {},
   "outputs": [],
   "source": [
    "k = Kernel(kernel_func=testfunc,\n",
    "           support=support,\n",
    "           offset=offset,\n",
    "           oversampling=oversampling)"
   ]
  },
  {
   "cell_type": "code",
   "execution_count": null,
   "metadata": {},
   "outputs": [],
   "source": [
    "# k.array"
   ]
  },
  {
   "cell_type": "code",
   "execution_count": null,
   "metadata": {},
   "outputs": [],
   "source": [
    "k.x_distance_vec"
   ]
  },
  {
   "cell_type": "code",
   "execution_count": null,
   "metadata": {},
   "outputs": [],
   "source": [
    "k.y_distance_vec"
   ]
  },
  {
   "cell_type": "code",
   "execution_count": null,
   "metadata": {},
   "outputs": [],
   "source": [
    "fig = plt.figure('kernel plots', figsize=(9, 5))\n",
    "ax1 = fig.add_subplot(121, aspect='equal')\n",
    "offset_from_kernel_centre = np.arange(len(k.array)) - k.centre_idx\n",
    "\n",
    "pixel_extent =[ offset_from_kernel_centre[0],offset_from_kernel_centre[-1],\n",
    "                  offset_from_kernel_centre[0],offset_from_kernel_centre[-1]]\n",
    "sampling_coords_extent =[ k.x_distance_vec[0],k.x_distance_vec[-1],\n",
    "                  k.y_distance_vec[0],k.y_distance_vec[-1]]\n",
    "\n",
    "im1 = ax1.imshow(k.array, interpolation='none', \n",
    "          extent=pixel_extent,\n",
    "#           extent=sampling_coords_extent,     \n",
    "         )\n",
    "ax1.set_title('Axes: oversampled-pixel offset from k-centre')\n",
    "ax2 = fig.add_subplot(122, aspect='equal')\n",
    "im2 = ax2.imshow(k.array, interpolation='none', \n",
    "#           extent=pixel_extent,\n",
    "          extent=sampling_coords_extent,     \n",
    "         )\n",
    "ax2.set_title('Axes: co-ord offset from sampling centre')\n",
    "# plt.colorbar(im2)\n",
    "grid_kwargs = dict(linewidth=2,which='both', linestyle=':', color='w', alpha=0.5)\n",
    "ax1.grid(True,  **grid_kwargs)\n",
    "# ax1.minorticks_on()\n",
    "ax2.grid(True,  **grid_kwargs)\n",
    "# ax2.minorticks_on()"
   ]
  },
  {
   "cell_type": "code",
   "execution_count": null,
   "metadata": {},
   "outputs": [],
   "source": [
    ""
   ]
  },
  {
   "cell_type": "code",
   "execution_count": null,
   "metadata": {},
   "outputs": [],
   "source": [
    ""
   ]
  },
  {
   "cell_type": "code",
   "execution_count": null,
   "metadata": {},
   "outputs": [],
   "source": [
    ""
   ]
  }
 ],
 "metadata": {
  "language_info": {
   "name": "python",
   "pygments_lexer": "ipython3"
  }
 },
 "nbformat": 4,
 "nbformat_minor": 1
}
