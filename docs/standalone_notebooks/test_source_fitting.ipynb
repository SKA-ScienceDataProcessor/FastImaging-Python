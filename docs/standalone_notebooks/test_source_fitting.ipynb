{
 "cells": [
  {
   "cell_type": "code",
   "execution_count": null,
   "metadata": {},
   "outputs": [],
   "source": [
    "%load_ext autoreload\n",
    "%autoreload 2"
   ]
  },
  {
   "cell_type": "code",
   "execution_count": null,
   "metadata": {},
   "outputs": [],
   "source": [
    "from __future__ import print_function\n",
    "\n",
    "import math\n",
    "\n",
    "import numpy as np\n",
    "import matplotlib.pyplot as plt\n",
    "from pytest import approx\n",
    "\n",
    "from fastimgproto.fixtures.image import (\n",
    "    add_gaussian2d_to_image,\n",
    "    gaussian_point_source,\n",
    ")\n",
    "from fastimgproto.sourcefind.fit import Gaussian2dParams\n",
    "from fastimgproto.sourcefind.image import SourceFindImage\n",
    "\n",
    "from fastimgproto.fixtures.sourcefind import (\n",
    "    generate_random_source_params,\n",
    "    check_single_source_extraction_successful,\n",
    ")\n",
    "\n",
    "import logging\n",
    "import datetime\n",
    "\n",
    "logger = logging.getLogger(__name__)"
   ]
  },
  {
   "cell_type": "code",
   "execution_count": null,
   "metadata": {},
   "outputs": [],
   "source": [
    "%matplotlib inline"
   ]
  },
  {
   "cell_type": "code",
   "execution_count": null,
   "metadata": {},
   "outputs": [],
   "source": [
    "ydim = 64\n",
    "xdim = 32\n",
    "image_shape = (ydim, xdim)\n",
    "seed = 123456\n",
    "\n",
    "base_x = 18\n",
    "base_y = 34\n",
    "n_sources = 500\n",
    "positive_sources = generate_random_source_params(n_sources=n_sources,\n",
    "                                                 base_x=base_x,\n",
    "                                                 base_y=base_y,\n",
    "                                                 amplitude_range=(5., 42.),\n",
    "                                                 semiminor_range=(0.7, 2.),\n",
    "                                                 axis_ratio_range=(1., 5.),\n",
    "                                                 seed = 123456\n",
    "                                                )"
   ]
  },
  {
   "cell_type": "code",
   "execution_count": null,
   "metadata": {},
   "outputs": [],
   "source": [
    "positive_sources[0]"
   ]
  },
  {
   "cell_type": "code",
   "execution_count": null,
   "metadata": {},
   "outputs": [],
   "source": [
    "n_islands = 0\n",
    "island_params = []\n",
    "fits = []\n",
    "\n",
    "start = datetime.datetime.now()\n",
    "\n",
    "for src in positive_sources:\n",
    "    img = np.zeros(image_shape)\n",
    "    add_gaussian2d_to_image(src, img)\n",
    "    detection_thresh = 4.\n",
    "    sfimg = SourceFindImage(img, detection_n_sigma=detection_thresh,\n",
    "                            analysis_n_sigma=3.,\n",
    "                            rms_est=1.,\n",
    "                            find_negative_sources=True)\n",
    "    check_single_source_extraction_successful(src, sfimg)\n",
    "    if sfimg.islands:\n",
    "        n_islands += 1\n",
    "        \n",
    "        assert len(sfimg.islands) == 1\n",
    "        island_params.append(sfimg.islands[0].params)\n",
    "        lsq_fit = sfimg.fit_gaussian_2d(sfimg.islands[0], verbose=1)\n",
    "        fits.append(lsq_fit)\n",
    "    else:\n",
    "        islands.append(None)\n",
    "        fits.append(None)\n",
    "        \n",
    "end = datetime.datetime.now()"
   ]
  },
  {
   "cell_type": "code",
   "execution_count": null,
   "metadata": {},
   "outputs": [],
   "source": [
    "duration = (end - start).total_seconds()\n",
    "n_completed_fits = sum(1 for f in fits if f)  # Count where f is not False\n",
    "print(\"{} of {} island-fits completed in {}\".format(n_completed_fits, n_islands, duration))"
   ]
  },
  {
   "cell_type": "code",
   "execution_count": null,
   "metadata": {},
   "outputs": [],
   "source": [
    "success = np.zeros_like(positive_sources, dtype=int)\n",
    "for idx, lsq_fit in enumerate(fits):\n",
    "    if lsq_fit is None:\n",
    "        success[idx] = 1 # Trivial no-island case. Count as OK.\n",
    "    elif (positive_sources[idx].comparable_params ==\n",
    "            approx(lsq_fit.comparable_params,rel=1e-2, abs=1.0)):\n",
    "        success[idx] = 1\n",
    "\n",
    "n_successful = success.sum()\n",
    "print(\"{} of {} sources fitted accurately\".format(\n",
    "    n_successful, len(positive_sources)\n",
    "))"
   ]
  },
  {
   "cell_type": "code",
   "execution_count": null,
   "metadata": {},
   "outputs": [],
   "source": [
    "success.sum()/n_sources"
   ]
  },
  {
   "cell_type": "code",
   "execution_count": null,
   "metadata": {},
   "outputs": [],
   "source": [
    "bad_idx = np.where(success==0)[0]\n",
    "bad_idx"
   ]
  },
  {
   "cell_type": "code",
   "execution_count": null,
   "metadata": {},
   "outputs": [],
   "source": [
    "import attr"
   ]
  },
  {
   "cell_type": "code",
   "execution_count": null,
   "metadata": {},
   "outputs": [],
   "source": [
    "print(island_params[0])"
   ]
  },
  {
   "cell_type": "code",
   "execution_count": null,
   "metadata": {},
   "outputs": [],
   "source": [
    "num_evaluations = np.array([i.optimize_result.nfev for i in island_params])\n",
    "np.where(num_evaluations > 10)"
   ]
  },
  {
   "cell_type": "code",
   "execution_count": null,
   "metadata": {},
   "outputs": [],
   "source": [
    "bad_truth = np.array([attr.astuple(s) for s in positive_sources])[bad_idx]\n",
    "bad_fits = np.array([attr.astuple(s) for s in fits])[bad_idx]"
   ]
  },
  {
   "cell_type": "code",
   "execution_count": null,
   "metadata": {},
   "outputs": [],
   "source": [
    "g2d_parnames = [a.name for a in Gaussian2dParams.__attrs_attrs__]"
   ]
  },
  {
   "cell_type": "code",
   "execution_count": null,
   "metadata": {},
   "outputs": [],
   "source": [
    "import pandas as pd"
   ]
  },
  {
   "cell_type": "code",
   "execution_count": null,
   "metadata": {},
   "outputs": [],
   "source": [
    "diffs = pd.DataFrame(data=(bad_truth - bad_fits),columns=g2d_parnames)\n",
    "diffs.index=pd.Series(data=bad_idx)\n",
    "diffs"
   ]
  },
  {
   "cell_type": "code",
   "execution_count": null,
   "metadata": {},
   "outputs": [],
   "source": [
    "for idx in range(len(positive_sources)):\n",
    "    print(island_params[idx].moments_fit.comparable_params)\n",
    "    print(positive_sources[idx].comparable_params)\n",
    "    print(np.degrees(positive_sources[idx].theta), np.degrees(island_params[idx].moments_fit.theta))\n",
    "    print()"
   ]
  },
  {
   "cell_type": "code",
   "execution_count": null,
   "metadata": {},
   "outputs": [],
   "source": [
    "idx = 178\n",
    "if idx in range(len(fits)):\n",
    "    f = fits[idx]\n",
    "    # print(islands[idx].fit.comparable_params == approx(positive_sources[idx].comparable_params))\n",
    "    i=island_params[idx]\n",
    "    print(\"Peak\\n\", i.extremum)\n",
    "    print(\"Moments\\n\", i.moments_fit)\n",
    "    print(\"Fit\\n\", f)\n",
    "    print(\"Truth\\n\", positive_sources[idx])\n",
    "    print()\n",
    "    print(f.comparable_params)\n",
    "    print(i.moments_fit.comparable_params)\n",
    "    print(positive_sources[idx].comparable_params)"
   ]
  },
  {
   "cell_type": "code",
   "execution_count": null,
   "metadata": {},
   "outputs": [],
   "source": []
  }
 ],
 "metadata": {
  "language_info": {
   "name": "python",
   "pygments_lexer": "ipython3"
  }
 },
 "nbformat": 4,
 "nbformat_minor": 1
}
