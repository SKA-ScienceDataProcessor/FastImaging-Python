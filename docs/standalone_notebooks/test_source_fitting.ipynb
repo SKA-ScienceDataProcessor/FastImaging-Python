{
 "cells": [
  {
   "cell_type": "code",
   "execution_count": null,
   "metadata": {},
   "outputs": [],
   "source": [
    "%load_ext autoreload\n",
    "%autoreload 2"
   ]
  },
  {
   "cell_type": "code",
   "execution_count": null,
   "metadata": {},
   "outputs": [],
   "source": [
    "from __future__ import print_function\n",
    "\n",
    "import math\n",
    "\n",
    "import numpy as np\n",
    "import matplotlib.pyplot as plt\n",
    "from pytest import approx\n",
    "\n",
    "from fastimgproto.fixtures.image import (\n",
    "    add_gaussian2d_to_image,\n",
    "    gaussian_point_source,\n",
    ")\n",
    "from fastimgproto.sourcefind.fit import Gaussian2dFit\n",
    "from fastimgproto.sourcefind.image import SourceFindImage\n",
    "\n",
    "from fastimgproto.fixtures.sourcefits import (\n",
    "    generate_random_source_params,\n",
    "    check_single_source_extraction_successful,\n",
    ")\n",
    "\n",
    "import logging\n",
    "\n",
    "logger = logging.getLogger(__name__)"
   ]
  },
  {
   "cell_type": "code",
   "execution_count": null,
   "metadata": {},
   "outputs": [],
   "source": [
    "%matplotlib inline"
   ]
  },
  {
   "cell_type": "code",
   "execution_count": null,
   "metadata": {},
   "outputs": [],
   "source": [
    "ydim = 64\n",
    "xdim = 32\n",
    "image_shape = (ydim, xdim)\n",
    "seed = 123456\n",
    "\n",
    "base_x = 18\n",
    "base_y = 34\n",
    "n_sources = 10000\n",
    "positive_sources = generate_random_source_params(n_sources=n_sources,\n",
    "                                                 base_x=base_x,\n",
    "                                                 base_y=base_y,\n",
    "                                                 amplitude_range=(4.5, 42.),\n",
    "                                                 semiminor_range=(0.4, 2.),\n",
    "                                                 axis_ratio_range=(1., 5.),\n",
    "                                                 seed = 41\n",
    "                                                )"
   ]
  },
  {
   "cell_type": "code",
   "execution_count": null,
   "metadata": {},
   "outputs": [],
   "source": [
    "positive_sources[0]"
   ]
  },
  {
   "cell_type": "code",
   "execution_count": null,
   "metadata": {},
   "outputs": [],
   "source": [
    "for src in positive_sources:\n",
    "    img = np.zeros(image_shape)\n",
    "    add_gaussian2d_to_image(src, img)\n",
    "    detection_thresh = 4.\n",
    "    sfimg = SourceFindImage(img, detection_n_sigma=detection_thresh,\n",
    "                            analysis_n_sigma=3.,\n",
    "                            rms_est=1.,\n",
    "                            find_negative_sources=True)\n",
    "    check_single_source_extraction_successful(src, sfimg)\n"
   ]
  },
  {
   "cell_type": "code",
   "execution_count": null,
   "metadata": {},
   "outputs": [],
   "source": [
    "success = np.zeros_like(positive_sources, dtype=int)\n",
    "for idx, _ in enumerate(positive_sources):\n",
    "        if (positive_sources[idx].comparable_params ==\n",
    "                approx(islands[idx].fit.comparable_params)):\n",
    "            success[idx] = 1"
   ]
  },
  {
   "cell_type": "code",
   "execution_count": null,
   "metadata": {},
   "outputs": [],
   "source": [
    "success.sum()/n_sources"
   ]
  },
  {
   "cell_type": "code",
   "execution_count": null,
   "metadata": {},
   "outputs": [],
   "source": []
  },
  {
   "cell_type": "code",
   "execution_count": null,
   "metadata": {},
   "outputs": [],
   "source": [
    "f0 = islands[0].fit"
   ]
  },
  {
   "cell_type": "code",
   "execution_count": null,
   "metadata": {},
   "outputs": [],
   "source": [
    "idx = 2\n",
    "# print(islands[idx].fit.comparable_params == approx(positive_sources[idx].comparable_params))\n",
    "i0=islands[idx]\n",
    "print(i0.extremum_x_idx, i0.extremum_y_idx)\n",
    "print(islands[idx].fit.comparable_params)\n",
    "print(positive_sources[idx].comparable_params)\n",
    "i0 = islands[idx]\n",
    "\n",
    "print(positive_sources[idx].theta)"
   ]
  },
  {
   "cell_type": "code",
   "execution_count": null,
   "metadata": {},
   "outputs": [],
   "source": [
    "bad_idx = np.where(success==0)"
   ]
  },
  {
   "cell_type": "code",
   "execution_count": null,
   "metadata": {},
   "outputs": [],
   "source": [
    "import attr"
   ]
  },
  {
   "cell_type": "code",
   "execution_count": null,
   "metadata": {},
   "outputs": [],
   "source": [
    "bad_truth = np.array([attr.astuple(s) for s in positive_sources])[bad_idx]\n",
    "bad_fits = np.array([attr.astuple(s) for s in fits])[bad_idx]"
   ]
  },
  {
   "cell_type": "code",
   "execution_count": null,
   "metadata": {},
   "outputs": [],
   "source": [
    "bad_truth.shape"
   ]
  },
  {
   "cell_type": "code",
   "execution_count": null,
   "metadata": {},
   "outputs": [],
   "source": [
    "bad_fits.shape"
   ]
  },
  {
   "cell_type": "code",
   "execution_count": null,
   "metadata": {},
   "outputs": [],
   "source": [
    "import pandas as pd"
   ]
  },
  {
   "cell_type": "code",
   "execution_count": null,
   "metadata": {},
   "outputs": [],
   "source": [
    "pd.DataFrame(data=(bad_truth - bad_fits))"
   ]
  },
  {
   "cell_type": "code",
   "execution_count": null,
   "metadata": {},
   "outputs": [],
   "source": []
  },
  {
   "cell_type": "code",
   "execution_count": null,
   "metadata": {},
   "outputs": [],
   "source": []
  }
 ],
 "metadata": {
  "language_info": {
   "name": "python",
   "pygments_lexer": "ipython3"
  }
 },
 "nbformat": 4,
 "nbformat_minor": 1
}
