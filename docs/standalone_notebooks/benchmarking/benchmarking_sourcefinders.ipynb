{
 "cells": [
  {
   "cell_type": "code",
   "execution_count": null,
   "metadata": {},
   "outputs": [],
   "source": [
    "%load_ext autoreload\n",
    "%autoreload 2"
   ]
  },
  {
   "cell_type": "code",
   "execution_count": null,
   "metadata": {},
   "outputs": [],
   "source": [
    "from __future__ import print_function\n",
    "\n",
    "import math\n",
    "\n",
    "import numpy as np\n",
    "import matplotlib as mpl\n",
    "import matplotlib.pyplot as plt\n",
    "import pandas as pd\n",
    "from pytest import approx\n",
    "\n",
    "from fastimgproto.bindings.sourcefind import (\n",
    "    cpp_sourcefind,\n",
    "    cpp_sourcefind_result_to_islandparams,\n",
    ")\n",
    "from fastimgproto.fixtures.image import (\n",
    "    add_gaussian2d_to_image,\n",
    "    gaussian_point_source,\n",
    ")\n",
    "from fastimgproto.fixtures.sourcefind import random_sources_on_grid\n",
    "from fastimgproto.sourcefind.fit import Gaussian2dParams\n",
    "from fastimgproto.sourcefind.image import SourceFindImage\n",
    "\n",
    "from fastimgproto.fixtures.sourcefind import (\n",
    "    generate_random_source_params,\n",
    "    check_single_source_extraction_successful,\n",
    ")\n",
    "\n",
    "\n",
    "import logging\n",
    "import datetime\n",
    "\n",
    "logger = logging.getLogger(__name__) "
   ]
  },
  {
   "cell_type": "code",
   "execution_count": null,
   "metadata": {},
   "outputs": [],
   "source": [
    "%matplotlib inline\n",
    "\n",
    "# Plot image pixels in cartesian ordering (i.e. y-positive == upwards):\n",
    "plt.rcParams['image.origin'] = 'lower'\n",
    "# Make plots bigger\n",
    "plt.rcParams['figure.figsize'] = 6, 6"
   ]
  },
  {
   "cell_type": "code",
   "execution_count": null,
   "metadata": {},
   "outputs": [],
   "source": [
    "amplitude_range = (6., 42.)\n",
    "semiminor_range = (1.2, 2.5)\n",
    "axis_ratio_range = (1., 2.)\n",
    "seed = 123456"
   ]
  },
  {
   "cell_type": "code",
   "execution_count": null,
   "metadata": {},
   "outputs": [],
   "source": [
    "image_size = 1024\n",
    "n_sources = 64"
   ]
  },
  {
   "cell_type": "code",
   "execution_count": null,
   "metadata": {},
   "outputs": [],
   "source": [
    "detection_n_sigma=5.\n",
    "analysis_n_sigma=3.\n",
    "rms_est=1."
   ]
  },
  {
   "cell_type": "code",
   "execution_count": null,
   "metadata": {},
   "outputs": [],
   "source": [
    "def generate_test_image(image_size, n_sources, seed=None):\n",
    "    image = np.zeros((image_size, image_size), dtype=np.float_)\n",
    "    sources = random_sources_on_grid(image_size,\n",
    "                                     n_sources,\n",
    "                                     amplitude_range=amplitude_range,\n",
    "                                     semiminor_range=semiminor_range,\n",
    "                                     axis_ratio_range=axis_ratio_range,\n",
    "                                     seed=seed\n",
    "                                     )\n",
    "    for s in sources:\n",
    "        add_gaussian2d_to_image(s, image)\n",
    "    return image"
   ]
  },
  {
   "cell_type": "code",
   "execution_count": null,
   "metadata": {},
   "outputs": [],
   "source": [
    "image = generate_test_image(image_size=2048, n_sources=64, seed=seed)"
   ]
  },
  {
   "cell_type": "code",
   "execution_count": null,
   "metadata": {},
   "outputs": [],
   "source": [
    "def time_native_sourcefinding(image):\n",
    "    start = datetime.datetime.now()\n",
    "    sfimg = SourceFindImage(image,\n",
    "                            detection_n_sigma=detection_n_sigma,\n",
    "                            analysis_n_sigma=analysis_n_sigma,\n",
    "                            rms_est=rms_est,\n",
    "                            find_negative_sources=False,\n",
    "                           )\n",
    "    extraction_complete = datetime.datetime.now()\n",
    "    sfimg.fit_islands()\n",
    "    fitting_complete = datetime.datetime.now()\n",
    "    extraction_duration = (extraction_complete - start).total_seconds()\n",
    "    fitting_duration = (fitting_complete - extraction_complete).total_seconds()\n",
    "    return extraction_duration, fitting_duration"
   ]
  },
  {
   "cell_type": "code",
   "execution_count": null,
   "metadata": {},
   "outputs": [],
   "source": [
    "\n",
    "# ??stp_python.source_find_wrapper"
   ]
  },
  {
   "cell_type": "code",
   "execution_count": null,
   "metadata": {},
   "outputs": [],
   "source": [
    "import gc\n",
    "import stp_python\n",
    "\n",
    "\n",
    "def time_ceres_sourcefinding(image):\n",
    "    \n",
    "\n",
    "    ceres_diffmethod = stp_python.CeresDiffMethod.AnalyticDiff\n",
    "    ceres_solvertype = stp_python.CeresSolverType.TrustRegion_DenseQR\n",
    "    median_method = stp_python.MedianMethod.ZEROMEDIAN\n",
    "    \n",
    "    pars = dict(image_data=np.asfortranarray(image),\n",
    "                detection_n_sigma=detection_n_sigma,\n",
    "                analysis_n_sigma=analysis_n_sigma,\n",
    "                rms_est=rms_est,\n",
    "                find_negative_sources=False,\n",
    "                sigma_clip_iters=0,\n",
    "                median_method=median_method,\n",
    "                gaussian_fitting=False,\n",
    "                generate_labelmap=False,\n",
    "                ceres_diffmethod=ceres_diffmethod,\n",
    "                ceres_solvertype=ceres_solvertype)\n",
    "    \n",
    "    start1 = datetime.datetime.now()\n",
    "    stp_python.source_find_wrapper(**pars)\n",
    "    end1 = datetime.datetime.now()\n",
    "\n",
    "    # Force a garbage collection to try and cool down\n",
    "    # the cache lines between benchmark runs\n",
    "    gc.collect()\n",
    "    \n",
    "    pars['gaussian_fitting'] = True\n",
    "    start2 = datetime.datetime.now()\n",
    "    stp_python.source_find_wrapper(**pars)\n",
    "    end2=datetime.datetime.now()\n",
    "\n",
    "    extraction_duration=(end1 - start1).total_seconds()\n",
    "    fitting_duration=(end2 - start2).total_seconds() - extraction_duration\n",
    "\n",
    "    return extraction_duration, fitting_duration\n",
    "\n"
   ]
  },
  {
   "cell_type": "code",
   "execution_count": null,
   "metadata": {},
   "outputs": [],
   "source": [
    "from tkp.sourcefinder.image import ImageData as TkpSFImage\n",
    "from tkp.testutil.mock import make_wcs\n",
    "def time_tkp_sourcefinding(image):\n",
    "    noisemap = np.ma.MaskedArray(rms_est*np.ones_like(image))\n",
    "    tkpimg = TkpSFImage(data=image, beam=(1,1,0), wcs=make_wcs(), residuals=False)\n",
    "    tkpimg._set_rm(noisemap)\n",
    "    tkpimg._set_backmap(np.zeros_like(image))\n",
    "    start = datetime.datetime.now()\n",
    "    tkpimg.extract(det=detection_n_sigma,anl=analysis_n_sigma, noisemap=noisemap)\n",
    "    end = datetime.datetime.now()\n",
    "    extraction_duration = (end - start).total_seconds()\n",
    "    return extraction_duration\n",
    "    "
   ]
  },
  {
   "cell_type": "code",
   "execution_count": null,
   "metadata": {},
   "outputs": [],
   "source": [
    "import sep\n",
    "def time_sep_extraction(image):\n",
    "    start=datetime.datetime.now()\n",
    "    objects = sep.extract(image, thresh=detection_n_sigma, err=rms_est,\n",
    "                          clean=False,\n",
    "                          filter_kernel=None,\n",
    "                          deblend_cont=1.,\n",
    "                          minarea=1,\n",
    "                         )\n",
    "    end = datetime.datetime.now()\n",
    "    extraction_duration = (end - start).total_seconds()\n",
    "    return extraction_duration\n",
    "    "
   ]
  },
  {
   "cell_type": "code",
   "execution_count": null,
   "metadata": {},
   "outputs": [],
   "source": [
    "time_ceres_sourcefinding(image)"
   ]
  },
  {
   "cell_type": "code",
   "execution_count": null,
   "metadata": {},
   "outputs": [],
   "source": [
    "2**13"
   ]
  },
  {
   "cell_type": "code",
   "execution_count": null,
   "metadata": {},
   "outputs": [],
   "source": [
    "# %%time\n",
    "small_sizes =  (2**9, 2**10, 2**11, 2**12)\n",
    "large_sizes =  small_sizes+(2**13, int(2**13.5 -1), 2**14)\n",
    "# images_w_64_sources = ( generate_test_image(image_size=sz, n_sources=64)\n",
    "#                       for sz in (512, 1024, 2048, 4096, 8192)]\n",
    "def image_set(image_sizes):\n",
    "    return (generate_test_image(sz, n_sources=n_sources) for sz in image_sizes)"
   ]
  },
  {
   "cell_type": "code",
   "execution_count": null,
   "metadata": {},
   "outputs": [],
   "source": [
    "large_sizes"
   ]
  },
  {
   "cell_type": "code",
   "execution_count": null,
   "metadata": {},
   "outputs": [],
   "source": [
    "# Megabytes per copy of largest image size:\n",
    "mbyte = 2**20\n",
    "list(image_set(large_sizes))[-1].nbytes / mbyte"
   ]
  },
  {
   "cell_type": "code",
   "execution_count": null,
   "metadata": {},
   "outputs": [],
   "source": [
    "# ??stp_python.source_find_wrapper"
   ]
  },
  {
   "cell_type": "code",
   "execution_count": null,
   "metadata": {},
   "outputs": [],
   "source": [
    "# import psutil"
   ]
  },
  {
   "cell_type": "code",
   "execution_count": null,
   "metadata": {},
   "outputs": [],
   "source": [
    "time_ceres_sourcefinding(generate_test_image(large_sizes[-1], n_sources=n_sources))"
   ]
  },
  {
   "cell_type": "code",
   "execution_count": null,
   "metadata": {},
   "outputs": [],
   "source": [
    "# time_tkp_sourcefinding(images_w_64_sources[-1])"
   ]
  },
  {
   "cell_type": "code",
   "execution_count": null,
   "metadata": {},
   "outputs": [],
   "source": [
    "time_sep_extraction(generate_test_image(large_sizes[-1], n_sources=n_sources))"
   ]
  },
  {
   "cell_type": "code",
   "execution_count": null,
   "metadata": {},
   "outputs": [],
   "source": [
    "def run_benchmark(bench, images):\n",
    "    d = {}\n",
    "    for img in images:\n",
    "        d[len(img)] = bench(img)\n",
    "    return d    "
   ]
  },
  {
   "cell_type": "code",
   "execution_count": null,
   "metadata": {},
   "outputs": [],
   "source": [
    "native_results = run_benchmark(time_native_sourcefinding, image_set(small_sizes))\n",
    "native_results"
   ]
  },
  {
   "cell_type": "code",
   "execution_count": null,
   "metadata": {},
   "outputs": [],
   "source": [
    "pyse_results = run_benchmark(time_tkp_sourcefinding, image_set(small_sizes))\n",
    "pyse_results"
   ]
  },
  {
   "cell_type": "code",
   "execution_count": null,
   "metadata": {},
   "outputs": [],
   "source": [
    "ceres_results = run_benchmark(time_ceres_sourcefinding, image_set(large_sizes))\n",
    "ceres_results"
   ]
  },
  {
   "cell_type": "code",
   "execution_count": null,
   "metadata": {},
   "outputs": [],
   "source": [
    "sep_results = run_benchmark(time_sep_extraction, image_set(large_sizes))\n",
    "sep_results"
   ]
  },
  {
   "cell_type": "code",
   "execution_count": null,
   "metadata": {},
   "outputs": [],
   "source": [
    "import collections\n",
    "\n",
    "\n",
    "def results_to_dataframe(results_dict):\n",
    "    df = pd.DataFrame.from_dict(data=results_dict, orient='index')\n",
    "    df.sort_index(inplace=True)\n",
    "    df.index.name = 'Image size [pix/side]'\n",
    "    v0 = results_dict.values()[0]\n",
    "    if isinstance(v0, collections.Iterable):\n",
    "        df.columns = ['extraction', 'fitting']\n",
    "    else:\n",
    "        df.columns = ['extraction']\n",
    "    return df"
   ]
  },
  {
   "cell_type": "code",
   "execution_count": null,
   "metadata": {},
   "outputs": [],
   "source": [
    "ticklabels = np.round(np.log2(large_sizes),decimals=1)\n",
    "simple_ticklabels = []\n",
    "for tl in ticklabels:\n",
    "    simple_ticklabels.append(int(tl) if tl==int(tl) else tl)\n",
    "simple_ticklabels = [\"$2^{{{}}}$\".format(power) for power in simple_ticklabels]\n",
    "simple_ticklabels"
   ]
  },
  {
   "cell_type": "code",
   "execution_count": null,
   "metadata": {},
   "outputs": [],
   "source": [
    "native_df = results_to_dataframe(native_results)\n",
    "ceres_df = results_to_dataframe(ceres_results)\n",
    "pyse_df = results_to_dataframe(pyse_results)\n",
    "sep_df = results_to_dataframe(sep_results)\n",
    "\n",
    "native_df['total']=native_df.extraction+native_df.fitting\n",
    "ceres_df['total'] = ceres_df.extraction + ceres_df.fitting\n",
    "\n",
    "ax = plt.gca()\n",
    "\n",
    "# native_df.plot(ax=ax, y='extraction', label='native_ex')\n",
    "# native_df.plot(ax=ax, y='fitting', label='native_fit')\n",
    "native_df.plot(ax=ax, y='total', label='Python ref. code (ex.+fit)')\n",
    "# native.plot(ax=ax, y='total', label='native_ex+fit')\n",
    "pyse_df.plot(ax=ax, y='extraction', label='PySE (ex.+fit)')\n",
    "ceres_df.plot(y='extraction',ax=ax, label='Ceres (ex.)')\n",
    "ceres_df.plot(y='total',ax=ax, label='Ceres (ex.+fit)')\n",
    "# ceres.plot(y='fitting',ax=ax, label='ceres_fit')\n",
    "sep_df.plot(y='extraction',ax=ax, label='SEP (ex.)')\n",
    "ax.set_ylabel('Time [s]')\n",
    "for sz in large_sizes:\n",
    "    ax.axvline(sz, ls=':', alpha=0.3)\n",
    "xax = ax.get_xaxis()\n",
    "xax.set_ticks(large_sizes)\n",
    "# xax.set_ticklabels(large_sizes, rotation=45)\n",
    "xax.set_ticklabels(simple_ticklabels, rotation=30)\n",
    "plt.savefig('extraction_64_sources_all.pdf')"
   ]
  },
  {
   "cell_type": "code",
   "execution_count": null,
   "metadata": {},
   "outputs": [],
   "source": []
  }
 ],
 "metadata": {
  "language_info": {
   "name": "python",
   "pygments_lexer": "ipython3"
  }
 },
 "nbformat": 4,
 "nbformat_minor": 1
}
