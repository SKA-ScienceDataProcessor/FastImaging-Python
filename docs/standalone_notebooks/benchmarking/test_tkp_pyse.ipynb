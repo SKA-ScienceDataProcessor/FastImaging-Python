{
 "cells": [
  {
   "cell_type": "code",
   "execution_count": null,
   "metadata": {},
   "outputs": [],
   "source": [
    "import matplotlib.pyplot as plt\n",
    "import numpy as np\n",
    "%matplotlib inline\n",
    "plt.rcParams['figure.figsize'] = (12, 8)"
   ]
  },
  {
   "cell_type": "code",
   "execution_count": null,
   "metadata": {},
   "outputs": [],
   "source": [
    "import astropy.constants as const\n",
    "import astropy.units as u\n",
    "import numpy as np\n",
    "from astropy.coordinates import SkyCoord\n",
    "from astropy.modeling.models import Gaussian2D as AstropyGauss2d\n",
    "from astropy.time import Time\n",
    "\n",
    "\n",
    "from fastimgproto.sourcefind.fit import Gaussian2dParams\n",
    "from fastimgproto.sourcefind.image import (\n",
    "    SourceFindImage, IslandParams, PixelIndex, Pixel,)\n",
    "#from fastimgproto.bindings.sourcefind import cpp_sourcefind\n",
    "\n",
    "from fastimgproto.fixtures.image import (\n",
    "    add_gaussian2d_to_image,\n",
    "    gaussian_point_source,\n",
    "    uncorrelated_gaussian_noise_background\n",
    ")\n",
    "from fastimgproto.fixtures.sourcefind import random_sources_on_grid\n",
    "import math"
   ]
  },
  {
   "cell_type": "code",
   "execution_count": null,
   "metadata": {},
   "outputs": [],
   "source": [
    "from tkp.sourcefinder.image import ImageData as TkpSFImage"
   ]
  },
  {
   "cell_type": "code",
   "execution_count": null,
   "metadata": {},
   "outputs": [],
   "source": [
    "image_size = 64\n",
    "image_shape = (image_size, image_size)\n",
    "# ydim = 64\n",
    "# xdim = 32\n",
    "# image_shape = (ydim, xdim)"
   ]
  },
  {
   "cell_type": "code",
   "execution_count": null,
   "metadata": {},
   "outputs": [],
   "source": [
    "n_sources=1\n",
    "amplitude_range = (28., 42.)\n",
    "semiminor_range = (1.2, 2.5)\n",
    "axis_ratio_range = (1., 2.)\n",
    "seed = 123456"
   ]
  },
  {
   "cell_type": "code",
   "execution_count": null,
   "metadata": {},
   "outputs": [],
   "source": [
    "sources_grid = random_sources_on_grid(image_size,\n",
    "                                     n_sources,\n",
    "                                     amplitude_range=amplitude_range,\n",
    "                                     semiminor_range=semiminor_range,\n",
    "                                     axis_ratio_range=axis_ratio_range,\n",
    "                                     seed=seed\n",
    "                                )"
   ]
  },
  {
   "cell_type": "code",
   "execution_count": null,
   "metadata": {},
   "outputs": [],
   "source": [
    "tough_source = Gaussian2dParams(\n",
    "    x_centre=18.48820770355941, y_centre=34.05960466345559, amplitude=12.609448034550804,\n",
    "    semimajor=2.913573230793465, semiminor=0.7230940150989847, theta=-1.4507887213254516)\n",
    "\n",
    "test_source = gaussian_point_source(18, 34.5, amplitude=18.3, semimajor=2.5, semiminor=2.0, theta=0.25)\n",
    "# img = uncorrelated_gaussian_noise_background(image_shape, sigma=0.1)\n",
    "img = np.zeros(image_shape, dtype=np.float_)\n",
    "noisemap = np.ma.MaskedArray(np.ones_like(img))\n",
    "add_gaussian2d_to_image(test_source, img)\n",
    "\n",
    "\n",
    "# for s in sources_grid:\n",
    "#     add_gaussian2d_to_image(s, img)"
   ]
  },
  {
   "cell_type": "code",
   "execution_count": null,
   "metadata": {},
   "outputs": [],
   "source": [
    "from tkp.testutil.mock import make_wcs\n",
    "tkpimg = TkpSFImage(data=img, beam=(1,1,0), wcs=make_wcs(), residuals=False)\n",
    "tkpimg._set_rm(noisemap)\n",
    "tkpimg._set_backmap(np.zeros_like(img))"
   ]
  },
  {
   "cell_type": "code",
   "execution_count": null,
   "metadata": {},
   "outputs": [],
   "source": [
    "results = tkpimg.extract(det=5,anl=3, noisemap=noisemap)"
   ]
  },
  {
   "cell_type": "code",
   "execution_count": null,
   "metadata": {},
   "outputs": [],
   "source": [
    "results"
   ]
  },
  {
   "cell_type": "code",
   "execution_count": null,
   "metadata": {},
   "outputs": [],
   "source": [
    "found=results[0]"
   ]
  },
  {
   "cell_type": "code",
   "execution_count": null,
   "metadata": {},
   "outputs": [],
   "source": [
    "test_source"
   ]
  },
  {
   "cell_type": "code",
   "execution_count": null,
   "metadata": {},
   "outputs": [],
   "source": [
    "hwhm_factor = math.sqrt(2*math.log(2))\n",
    "hwhm_factor"
   ]
  },
  {
   "cell_type": "code",
   "execution_count": null,
   "metadata": {},
   "outputs": [],
   "source": [
    "found.y, found.x, found.peak, found.smaj/hwhm_factor, found.smin/hwhm_factor, -1*found.theta"
   ]
  }
 ],
 "metadata": {
  "language_info": {
   "name": "python",
   "pygments_lexer": "ipython3"
  }
 },
 "nbformat": 4,
 "nbformat_minor": 1
}
