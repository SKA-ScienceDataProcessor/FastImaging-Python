{
 "cells": [
  {
   "cell_type": "code",
   "execution_count": null,
   "metadata": {},
   "outputs": [],
   "source": [
    "from __future__ import print_function\n",
    "\n",
    "import math\n",
    "\n",
    "import numpy as np\n",
    "import matplotlib.pyplot as plt\n",
    "from scipy import ndimage\n",
    "from pytest import approx\n",
    "\n",
    "from fastimgproto.fixtures.image import (\n",
    "    add_gaussian2d_to_image,\n",
    "    gaussian_point_source,\n",
    ")\n",
    "from fastimgproto.sourcefind.fit import Gaussian2dParams\n",
    "from fastimgproto.sourcefind.image import SourceFindImage, _STRUCTURE_ELEMENT\n",
    "\n",
    "from fastimgproto.bindings.sourcefind import (\n",
    "    cpp_sourcefind,\n",
    "    cpp_sourcefind_result_to_islandparams,\n",
    ")\n",
    "\n",
    "from fastimgproto.fixtures.sourcefind import (\n",
    "    generate_random_source_params)\n",
    "\n",
    "import logging\n",
    "\n",
    "logger = logging.getLogger(__name__)"
   ]
  },
  {
   "cell_type": "code",
   "execution_count": null,
   "metadata": {},
   "outputs": [],
   "source": [
    "%matplotlib inline\n",
    "\n",
    "# Plot image pixels in cartesian ordering (i.e. y-positive == upwards):\n",
    "plt.rcParams['image.origin'] = 'lower'\n",
    "# Make plots bigger\n",
    "plt.rcParams['figure.figsize'] = 10, 10"
   ]
  },
  {
   "cell_type": "code",
   "execution_count": null,
   "metadata": {},
   "outputs": [],
   "source": [
    "ydim = 64\n",
    "xdim = 32\n",
    "image_shape = (ydim, xdim)\n"
   ]
  },
  {
   "cell_type": "code",
   "execution_count": null,
   "metadata": {},
   "outputs": [],
   "source": [
    "detection_n_sigma=5.\n",
    "analysis_n_sigma=3.\n",
    "rms_est=1."
   ]
  },
  {
   "cell_type": "code",
   "execution_count": null,
   "metadata": {},
   "outputs": [],
   "source": [
    "test_source = Gaussian2dParams(x_centre=18.48820770355941, y_centre=34.05960466345559, amplitude=12.609448034550804,\n",
    "                               semimajor=2.913573230793465, semiminor=0.7230940150989847, theta=-1.4507887213254516)\n",
    "\n",
    "\n",
    "img = np.zeros(image_shape)\n",
    "add_gaussian2d_to_image(test_source, img)"
   ]
  },
  {
   "cell_type": "code",
   "execution_count": null,
   "metadata": {},
   "outputs": [],
   "source": [
    "img.max()"
   ]
  },
  {
   "cell_type": "code",
   "execution_count": null,
   "metadata": {},
   "outputs": [],
   "source": [
    "sfimg =SourceFindImage(img, detection_n_sigma=4., analysis_n_sigma=3., rms_est=1.,find_negative_sources=True)\n",
    "len(sfimg.islands)"
   ]
  },
  {
   "cell_type": "code",
   "execution_count": null,
   "metadata": {},
   "outputs": [],
   "source": [
    "sfimg.fit_gaussian_2d(sfimg.islands[0],verbose=0)"
   ]
  },
  {
   "cell_type": "code",
   "execution_count": null,
   "metadata": {},
   "outputs": [],
   "source": [
    "import stp_python\n",
    "ceres_diffmethod = stp_python.CeresDiffMethod.AnalyticDiff\n",
    "ceres_solvertype = stp_python.CeresSolverType.TrustRegion_DenseQR\n",
    "median_method = stp_python.MedianMethod.ZEROMEDIAN\n",
    "stp_pars = dict(image_data=np.asfortranarray(img),\n",
    "            detection_n_sigma=detection_n_sigma,\n",
    "            analysis_n_sigma=analysis_n_sigma,\n",
    "            rms_est=rms_est,\n",
    "            find_negative_sources=False,\n",
    "            sigma_clip_iters=0,\n",
    "            median_method=median_method,\n",
    "            gaussian_fitting=False,\n",
    "            generate_labelmap=False,\n",
    "            ceres_diffmethod=ceres_diffmethod,\n",
    "            ceres_solvertype=ceres_solvertype)\n",
    "\n",
    "result = stp_python.source_find_wrapper(**stp_pars)\n",
    "result =[cpp_sourcefind_result_to_islandparams(r) for r in result]\n",
    "result"
   ]
  },
  {
   "cell_type": "code",
   "execution_count": null,
   "metadata": {},
   "outputs": [],
   "source": [
    "pars = sfimg.islands[0].params"
   ]
  },
  {
   "cell_type": "code",
   "execution_count": null,
   "metadata": {},
   "outputs": [],
   "source": [
    "pars.fitter_report.success"
   ]
  },
  {
   "cell_type": "code",
   "execution_count": null,
   "metadata": {},
   "outputs": [],
   "source": [
    "pars.moments_fit"
   ]
  },
  {
   "cell_type": "code",
   "execution_count": null,
   "metadata": {},
   "outputs": [],
   "source": [
    "pars.leastsq_fit"
   ]
  },
  {
   "cell_type": "code",
   "execution_count": null,
   "metadata": {},
   "outputs": [],
   "source": [
    "test_source"
   ]
  },
  {
   "cell_type": "code",
   "execution_count": null,
   "metadata": {},
   "outputs": [],
   "source": [
    "leastsq_img = np.zeros(image_shape)\n",
    "add_gaussian2d_to_image(pars.leastsq_fit, leastsq_img)"
   ]
  },
  {
   "cell_type": "code",
   "execution_count": null,
   "metadata": {},
   "outputs": [],
   "source": [
    "# fig = plt.figure(figsize=(8, 10))\n",
    "plt.imshow(img- leastsq_img)\n",
    "plt.colorbar()\n",
    "plt.scatter(test_source.x_centre, test_source.y_centre)\n",
    "peak_idx =sfimg.islands[0].extremum.index\n",
    "plt.scatter(peak_idx.x, peak_idx.y)"
   ]
  },
  {
   "cell_type": "code",
   "execution_count": null,
   "metadata": {},
   "outputs": [],
   "source": [
    "binary_map = sfimg.data > sfimg.analysis_n_sigma * sfimg.rms_est"
   ]
  },
  {
   "cell_type": "code",
   "execution_count": null,
   "metadata": {},
   "outputs": [],
   "source": [
    "plt.imshow(binary_map)"
   ]
  },
  {
   "cell_type": "code",
   "execution_count": null,
   "metadata": {},
   "outputs": [],
   "source": [
    "label_map, n_labels = ndimage.label(binary_map, structure=_STRUCTURE_ELEMENT)"
   ]
  },
  {
   "cell_type": "code",
   "execution_count": null,
   "metadata": {},
   "outputs": [],
   "source": [
    "n_labels"
   ]
  },
  {
   "cell_type": "code",
   "execution_count": null,
   "metadata": {},
   "outputs": [],
   "source": [
    "range(1, n_labels + 1)"
   ]
  },
  {
   "cell_type": "code",
   "execution_count": null,
   "metadata": {},
   "outputs": [],
   "source": [
    "plt.imshow(label_map)"
   ]
  },
  {
   "cell_type": "code",
   "execution_count": null,
   "metadata": {},
   "outputs": [],
   "source": [
    "ndimage.maximum(sfimg.data, label_map, index=range(1, n_labels + 1))"
   ]
  },
  {
   "cell_type": "code",
   "execution_count": null,
   "metadata": {},
   "outputs": [],
   "source": [
    "plt.imshow(sfimg.islands[0].data)"
   ]
  },
  {
   "cell_type": "code",
   "execution_count": null,
   "metadata": {},
   "outputs": [],
   "source": [
    "# plt.imshow(sfimg.islands[1].data)"
   ]
  }
 ],
 "metadata": {
  "language_info": {
   "name": "python",
   "pygments_lexer": "ipython3"
  }
 },
 "nbformat": 4,
 "nbformat_minor": 1
}
