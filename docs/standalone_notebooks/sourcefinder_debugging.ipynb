{
 "cells": [
  {
   "cell_type": "code",
   "execution_count": null,
   "metadata": {},
   "outputs": [],
   "source": [
    "from __future__ import print_function\n",
    "\n",
    "import math\n",
    "\n",
    "import numpy as np\n",
    "import matplotlib.pyplot as plt\n",
    "from scipy import ndimage\n",
    "from pytest import approx\n",
    "\n",
    "from fastimgproto.fixtures.image import (\n",
    "    add_gaussian2d_to_image,\n",
    "    gaussian_point_source,\n",
    ")\n",
    "from fastimgproto.sourcefind.fit import Gaussian2dParams\n",
    "from fastimgproto.sourcefind.image import SourceFindImage, _STRUCTURE_ELEMENT\n",
    "\n",
    "from fastimgproto.fixtures.sourcefits import (\n",
    "    generate_random_source_params)\n",
    "\n",
    "import logging\n",
    "\n",
    "logger = logging.getLogger(__name__)"
   ]
  },
  {
   "cell_type": "code",
   "execution_count": null,
   "metadata": {},
   "outputs": [],
   "source": [
    "%matplotlib inline\n",
    "\n",
    "# Plot image pixels in cartesian ordering (i.e. y-positive == upwards):\n",
    "plt.rcParams['image.origin'] = 'lower'\n",
    "# Make plots bigger\n",
    "plt.rcParams['figure.figsize'] = 10, 10"
   ]
  },
  {
   "cell_type": "code",
   "execution_count": null,
   "metadata": {},
   "outputs": [],
   "source": [
    "ydim = 64\n",
    "xdim = 32\n",
    "image_shape = (ydim, xdim)\n"
   ]
  },
  {
   "cell_type": "code",
   "execution_count": null,
   "metadata": {},
   "outputs": [],
   "source": [
    "test_source = Gaussian2dParams(x_centre=18.220534745584583, y_centre=34.58710129203467, amplitude=5.509118196421525, semimajor=2.382286097703295, semiminor=0.7718844595419742, theta=-1.4225499318644537)\n",
    "\n",
    "img = np.zeros(image_shape)\n",
    "add_gaussian2d_to_image(test_source, img)"
   ]
  },
  {
   "cell_type": "code",
   "execution_count": null,
   "metadata": {},
   "outputs": [],
   "source": [
    "img.max()"
   ]
  },
  {
   "cell_type": "code",
   "execution_count": null,
   "metadata": {},
   "outputs": [],
   "source": [
    "sfimg =SourceFindImage(img, detection_n_sigma=4., analysis_n_sigma=3., rms_est=1.,find_negative_sources=True)\n",
    "len(sfimg.islands)"
   ]
  },
  {
   "cell_type": "code",
   "execution_count": null,
   "metadata": {},
   "outputs": [],
   "source": [
    "sfimg.fit_gaussian_2d(sfimg.islands[0],verbose=2)"
   ]
  },
  {
   "cell_type": "code",
   "execution_count": null,
   "metadata": {},
   "outputs": [],
   "source": [
    "pars = sfimg.islands[0].params"
   ]
  },
  {
   "cell_type": "code",
   "execution_count": null,
   "metadata": {},
   "outputs": [],
   "source": [
    "pars.moments_fit"
   ]
  },
  {
   "cell_type": "code",
   "execution_count": null,
   "metadata": {},
   "outputs": [],
   "source": [
    "pars.leastsq_fit"
   ]
  },
  {
   "cell_type": "code",
   "execution_count": null,
   "metadata": {},
   "outputs": [],
   "source": [
    "test_source"
   ]
  },
  {
   "cell_type": "code",
   "execution_count": null,
   "metadata": {},
   "outputs": [],
   "source": [
    "leastsq_img = np.zeros(image_shape)\n",
    "add_gaussian2d_to_image(pars.leastsq_fit, leastsq_img)"
   ]
  },
  {
   "cell_type": "code",
   "execution_count": null,
   "metadata": {},
   "outputs": [],
   "source": [
    "# fig = plt.figure(figsize=(8, 10))\n",
    "plt.imshow(img- leastsq_img)\n",
    "plt.colorbar()\n",
    "plt.scatter(test_source.x_centre, test_source.y_centre)\n",
    "peak_idx =sfimg.islands[0].extremum.index\n",
    "plt.scatter(peak_idx.x, peak_idx.y)"
   ]
  },
  {
   "cell_type": "code",
   "execution_count": null,
   "metadata": {},
   "outputs": [],
   "source": [
    "binary_map = sfimg.data > sfimg.analysis_n_sigma * sfimg.rms_est"
   ]
  },
  {
   "cell_type": "code",
   "execution_count": null,
   "metadata": {},
   "outputs": [],
   "source": [
    "plt.imshow(binary_map)"
   ]
  },
  {
   "cell_type": "code",
   "execution_count": null,
   "metadata": {},
   "outputs": [],
   "source": [
    "label_map, n_labels = ndimage.label(binary_map, structure=_STRUCTURE_ELEMENT)"
   ]
  },
  {
   "cell_type": "code",
   "execution_count": null,
   "metadata": {},
   "outputs": [],
   "source": [
    "n_labels"
   ]
  },
  {
   "cell_type": "code",
   "execution_count": null,
   "metadata": {},
   "outputs": [],
   "source": [
    "range(1, n_labels + 1)"
   ]
  },
  {
   "cell_type": "code",
   "execution_count": null,
   "metadata": {},
   "outputs": [],
   "source": [
    "plt.imshow(label_map)"
   ]
  },
  {
   "cell_type": "code",
   "execution_count": null,
   "metadata": {},
   "outputs": [],
   "source": [
    "ndimage.maximum(sfimg.data, label_map, index=range(1, n_labels + 1))"
   ]
  },
  {
   "cell_type": "code",
   "execution_count": null,
   "metadata": {},
   "outputs": [],
   "source": [
    "plt.imshow(sfimg.islands[0].data)"
   ]
  },
  {
   "cell_type": "code",
   "execution_count": null,
   "metadata": {},
   "outputs": [],
   "source": [
    "plt.imshow(sfimg.islands[1].data)"
   ]
  },
  {
   "cell_type": "code",
   "execution_count": null,
   "metadata": {},
   "outputs": [],
   "source": []
  }
 ],
 "metadata": {
  "language_info": {
   "name": "python",
   "pygments_lexer": "ipython3"
  }
 },
 "nbformat": 4,
 "nbformat_minor": 1
}
