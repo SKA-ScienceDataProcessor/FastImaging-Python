{
 "cells": [
  {
   "cell_type": "code",
   "execution_count": null,
   "metadata": {},
   "outputs": [],
   "source": [
    "import matplotlib.pyplot as plt\n",
    "import numpy as np\n",
    "%matplotlib inline\n",
    "plt.rcParams['figure.figsize'] = (12, 8)"
   ]
  },
  {
   "cell_type": "code",
   "execution_count": null,
   "metadata": {},
   "outputs": [],
   "source": [
    "import astropy.constants as const\n",
    "import astropy.units as u\n",
    "import numpy as np\n",
    "from astropy.coordinates import SkyCoord\n",
    "from astropy.modeling.models import Gaussian2D as AstropyGauss2d\n",
    "from astropy.time import Time\n",
    "\n",
    "\n",
    "from fastimgproto.sourcefind.fit import Gaussian2dParams\n",
    "from fastimgproto.sourcefind.image import (\n",
    "    SourceFindImage, IslandParams, PixelIndex, Pixel,)\n",
    "from fastimgproto.bindings.sourcefind import cpp_sourcefind\n",
    "\n",
    "from fastimgproto.fixtures.image import (\n",
    "    add_gaussian2d_to_image,\n",
    "    gaussian_point_source,\n",
    ")\n",
    "from fastimgproto.fixtures.sourcefind import random_sources_on_grid"
   ]
  },
  {
   "cell_type": "code",
   "execution_count": null,
   "metadata": {},
   "outputs": [],
   "source": [
    "import stp_python"
   ]
  },
  {
   "cell_type": "code",
   "execution_count": null,
   "metadata": {},
   "outputs": [],
   "source": [
    "image_size = 64\n",
    "image_shape = (image_size, image_size)\n",
    "# ydim = 64\n",
    "# xdim = 32\n",
    "# image_shape = (ydim, xdim)"
   ]
  },
  {
   "cell_type": "code",
   "execution_count": null,
   "metadata": {},
   "outputs": [],
   "source": [
    "n_sources=1\n",
    "amplitude_range = (28., 42.)\n",
    "semiminor_range = (1.2, 2.5)\n",
    "axis_ratio_range = (1., 2.)\n",
    "seed = 123456"
   ]
  },
  {
   "cell_type": "code",
   "execution_count": null,
   "metadata": {},
   "outputs": [],
   "source": [
    "sources_grid = random_sources_on_grid(image_size,\n",
    "                                     n_sources,\n",
    "                                     amplitude_range=amplitude_range,\n",
    "                                     semiminor_range=semiminor_range,\n",
    "                                     axis_ratio_range=axis_ratio_range,\n",
    "                                     seed=seed\n",
    "                                )"
   ]
  },
  {
   "cell_type": "code",
   "execution_count": null,
   "metadata": {},
   "outputs": [],
   "source": [
    "tough_source = Gaussian2dParams(\n",
    "    x_centre=18.48820770355941, y_centre=34.05960466345559, amplitude=12.609448034550804,\n",
    "    semimajor=2.913573230793465, semiminor=0.7230940150989847, theta=-1.4507887213254516)\n",
    "\n",
    "test_source = gaussian_point_source(18, 34.5, amplitude=18.3, semimajor=2.5, semiminor=1.5)\n",
    "img = np.zeros(image_shape)\n",
    "add_gaussian2d_to_image(tough_source, img)\n",
    "\n",
    "\n",
    "# for s in sources_grid:\n",
    "#     add_gaussian2d_to_image(s, img)"
   ]
  },
  {
   "cell_type": "code",
   "execution_count": null,
   "metadata": {},
   "outputs": [],
   "source": [
    "sf_img = SourceFindImage(img, detection_n_sigma=5., analysis_n_sigma=3., rms_est=1.)\n",
    "island0 = sf_img.islands[0].params"
   ]
  },
  {
   "cell_type": "code",
   "execution_count": null,
   "metadata": {},
   "outputs": [],
   "source": [
    "sf_img.fit_islands()"
   ]
  },
  {
   "cell_type": "code",
   "execution_count": null,
   "metadata": {},
   "outputs": [],
   "source": [
    "# Call source_find\n",
    "results = cpp_sourcefind(img, detection_n_sigma=5., analysis_n_sigma=3., rms_est=1.)"
   ]
  },
  {
   "cell_type": "code",
   "execution_count": null,
   "metadata": {},
   "outputs": [],
   "source": [
    "results[0]"
   ]
  },
  {
   "cell_type": "code",
   "execution_count": null,
   "metadata": {},
   "outputs": [],
   "source": [
    "tough_source"
   ]
  },
  {
   "cell_type": "code",
   "execution_count": null,
   "metadata": {},
   "outputs": [],
   "source": [
    "results[0]"
   ]
  },
  {
   "cell_type": "code",
   "execution_count": null,
   "metadata": {},
   "outputs": [],
   "source": [
    "island0"
   ]
  },
  {
   "cell_type": "code",
   "execution_count": null,
   "metadata": {},
   "outputs": [],
   "source": [
    "len(sources_grid)"
   ]
  },
  {
   "cell_type": "code",
   "execution_count": null,
   "metadata": {},
   "outputs": [],
   "source": [
    "len(ceres_islands)"
   ]
  },
  {
   "cell_type": "code",
   "execution_count": null,
   "metadata": {},
   "outputs": [],
   "source": [
    "plt.imshow(img)\n",
    "plt.colorbar()"
   ]
  },
  {
   "cell_type": "code",
   "execution_count": null,
   "metadata": {},
   "outputs": [],
   "source": [
    "sfimg = SourceFindImage(img, detection_n_sigma=detection_n_sigma, analysis_n_sigma=analysis_n_sigma, rms_est=rms_est)"
   ]
  },
  {
   "cell_type": "code",
   "execution_count": null,
   "metadata": {},
   "outputs": [],
   "source": [
    "binary_map = sfimg.data > sfimg.analysis_n_sigma * sfimg.rms_est"
   ]
  },
  {
   "cell_type": "code",
   "execution_count": null,
   "metadata": {},
   "outputs": [],
   "source": [
    "plt.imshow(binary_map)"
   ]
  },
  {
   "cell_type": "code",
   "execution_count": null,
   "metadata": {},
   "outputs": [],
   "source": []
  }
 ],
 "metadata": {
  "language_info": {
   "name": "python",
   "pygments_lexer": "ipython3"
  }
 },
 "nbformat": 4,
 "nbformat_minor": 1
}
