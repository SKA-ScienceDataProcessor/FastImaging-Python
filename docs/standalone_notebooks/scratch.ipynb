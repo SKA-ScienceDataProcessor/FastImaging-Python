{
 "cells": [
  {
   "cell_type": "code",
   "execution_count": null,
   "metadata": {},
   "outputs": [],
   "source": [
    "import matplotlib.pyplot as plt\n",
    "import numpy as np\n",
    "%matplotlib inline\n",
    "plt.rcParams['figure.figsize'] = (12, 8)"
   ]
  },
  {
   "cell_type": "code",
   "execution_count": null,
   "metadata": {},
   "outputs": [],
   "source": [
    "import astropy.constants as const\n",
    "import astropy.units as u\n",
    "import numpy as np\n",
    "from astropy.coordinates import SkyCoord\n",
    "from astropy.modeling.models import Gaussian2D as AstropyGauss2d\n",
    "from astropy.time import Time\n",
    "\n",
    "\n",
    "from fastimgproto.sourcefind.fit import Gaussian2dParams\n",
    "from fastimgproto.sourcefind.image import SourceFindImage\n",
    "\n",
    "from fastimgproto.fixtures.image import (\n",
    "    add_gaussian2d_to_image,\n",
    "    gaussian_point_source,\n",
    ")\n",
    "from fastimgproto.fixtures.sourcefind import random_sources_on_grid"
   ]
  },
  {
   "cell_type": "code",
   "execution_count": null,
   "metadata": {},
   "outputs": [],
   "source": [
    "import stp_python"
   ]
  },
  {
   "cell_type": "code",
   "execution_count": null,
   "metadata": {},
   "outputs": [],
   "source": [
    "image_size = 512\n",
    "image_shape = (image_size, image_size)\n",
    "# image_shape = (ydim, xdim)"
   ]
  },
  {
   "cell_type": "code",
   "execution_count": null,
   "metadata": {},
   "outputs": [],
   "source": [
    "n_sources=49\n",
    "amplitude_range = (28., 42.)\n",
    "semiminor_range = (1.2, 2.5)\n",
    "axis_ratio_range = (1., 2.)\n",
    "seed = 123456"
   ]
  },
  {
   "cell_type": "code",
   "execution_count": null,
   "metadata": {},
   "outputs": [],
   "source": [
    "sources_grid = random_sources_on_grid(image_size,\n",
    "                                     n_sources,\n",
    "                                     amplitude_range=amplitude_range,\n",
    "                                     semiminor_range=semiminor_range,\n",
    "                                     axis_ratio_range=axis_ratio_range,\n",
    "                                     seed=seed\n",
    "                                )"
   ]
  },
  {
   "cell_type": "code",
   "execution_count": null,
   "metadata": {},
   "outputs": [],
   "source": [
    "tough_source = Gaussian2dParams(\n",
    "    x_centre=18.48820770355941, y_centre=34.05960466345559, amplitude=12.609448034550804,\n",
    "    semimajor=2.913573230793465, semiminor=0.7230940150989847, theta=-1.4507887213254516)\n",
    "\n",
    "# test_source = gaussian_point_source(18, 34.5, amplitude=18.3, semimajor=2.5, semiminor=1.5)\n",
    "# add_gaussian2d_to_image(test_source, s)\n",
    "\n",
    "img = np.zeros(image_shape)\n",
    "for s in sources_grid:\n",
    "    add_gaussian2d_to_image(s, img)"
   ]
  },
  {
   "cell_type": "code",
   "execution_count": null,
   "metadata": {},
   "outputs": [],
   "source": [
    "# Parameters of source_find function\n",
    "detection_n_sigma = 5.0\n",
    "analysis_n_sigma = 3.0\n",
    "rms_est = 1.0\n",
    "find_negative = True\n",
    "sigma_clip_iters = 5\n",
    "binapprox_median = True\n",
    "compute_barycentre = True\n",
    "gaussian_fitting = True\n",
    "generate_labelmap = False\n",
    "ceres_diffmethod = stp_python.CeresDiffMethod.AutoDiff # Other options: stp_python.CeresDiffMethod.AutoDiff, stp_python.CeresDiffMethod.AnalyticDiff_SingleResBlk, stp_python.CeresDiffMethod.AnalyticDiff\n",
    "ceres_solvertype = stp_python.CeresSolverType.TrustRegion_DenseQR # Other options: stp_python.CeresSolverType.LinearSearch_LBFGS, stp_python.CeresSolverType.TrustRegion_DenseQR\n",
    "\n",
    "# Call source_find\n",
    "ceres_islands = stp_python.source_find_wrapper(img, detection_n_sigma, analysis_n_sigma, rms_est, find_negative, sigma_clip_iters, binapprox_median, compute_barycentre, gaussian_fitting, generate_labelmap, ceres_diffmethod, ceres_solvertype)\n"
   ]
  },
  {
   "cell_type": "code",
   "execution_count": null,
   "metadata": {},
   "outputs": [],
   "source": [
    "# test_source"
   ]
  },
  {
   "cell_type": "code",
   "execution_count": null,
   "metadata": {},
   "outputs": [],
   "source": [
    "len(sources_grid)"
   ]
  },
  {
   "cell_type": "code",
   "execution_count": null,
   "metadata": {},
   "outputs": [],
   "source": [
    "len(ceres_islands)"
   ]
  },
  {
   "cell_type": "code",
   "execution_count": null,
   "metadata": {},
   "outputs": [],
   "source": [
    "plt.imshow(img)\n",
    "plt.colorbar()"
   ]
  },
  {
   "cell_type": "code",
   "execution_count": null,
   "metadata": {},
   "outputs": [],
   "source": [
    "sfimg = SourceFindImage(img, detection_n_sigma=detection_n_sigma, analysis_n_sigma=analysis_n_sigma, rms_est=rms_est)"
   ]
  },
  {
   "cell_type": "code",
   "execution_count": null,
   "metadata": {},
   "outputs": [],
   "source": [
    "binary_map = sfimg.data > sfimg.analysis_n_sigma * sfimg.rms_est"
   ]
  },
  {
   "cell_type": "code",
   "execution_count": null,
   "metadata": {},
   "outputs": [],
   "source": [
    "plt.imshow(binary_map)"
   ]
  }
 ],
 "metadata": {
  "language_info": {
   "name": "python",
   "pygments_lexer": "ipython3"
  }
 },
 "nbformat": 4,
 "nbformat_minor": 1
}
