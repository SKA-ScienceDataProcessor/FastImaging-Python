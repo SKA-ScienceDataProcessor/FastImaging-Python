{
 "cells": [
  {
   "cell_type": "markdown",
   "metadata": {},
   "source": [
    "Kernel Functions\n",
    "=================\n",
    "Various analytic functions used for generating 'kernels' (see below).\n",
    "Some are very simple (e.g. pillbox, triangle), which makes them useful when testing other code routines.\n",
    "Some (e.g. gaussian-sinc, prolate spheroidal) have desirable properties relating to Fourier transforms."
   ]
  },
  {
   "cell_type": "code",
   "execution_count": null,
   "metadata": {},
   "outputs": [],
   "source": [
    "import matplotlib.pyplot as plt\n",
    "import matplotlib.image as mpimg\n",
    "import numpy as np\n",
    "%matplotlib inline\n",
    "# Plot image pixels in cartesian ordering (i.e. y-positive == upwards):\n",
    "plt.rcParams['image.origin'] = 'lower'\n",
    "# Make plots bigger\n",
    "plt.rcParams['figure.figsize'] = 6, 6"
   ]
  },
  {
   "cell_type": "code",
   "execution_count": null,
   "metadata": {},
   "outputs": [],
   "source": [
    "import fastimgproto.gridder.conv_funcs as conv_funcs"
   ]
  },
  {
   "cell_type": "code",
   "execution_count": null,
   "metadata": {},
   "outputs": [],
   "source": [
    "triangle3 = conv_funcs.Triangle(half_base_width=3.0)\n",
    "pillbox = conv_funcs.Pillbox(half_base_width=2.5)\n",
    "sinc = conv_funcs.Sinc(3)\n",
    "gauss = conv_funcs.Gaussian(trunc=5.)\n",
    "g_sinc = conv_funcs.GaussianSinc(trunc=5.)\n",
    "narrow_g_sinc = conv_funcs.GaussianSinc(trunc=3.)"
   ]
  },
  {
   "cell_type": "code",
   "execution_count": null,
   "metadata": {},
   "outputs": [],
   "source": [
    "plot_radius = 10.\n",
    "x=np.linspace(-plot_radius,plot_radius,501)"
   ]
  },
  {
   "cell_type": "code",
   "execution_count": null,
   "metadata": {},
   "outputs": [],
   "source": [
    "# %matplotlib notebook\n",
    "fig = plt.figure()\n",
    "ax = fig.gca()\n",
    "# ax.plot(x, pillbox(x), color='r', label='pillbox')\n",
    "# ax.plot(x, triangle3(x), color='g', label='triangle')\n",
    "\n",
    "ax.set_xticks(np.arange(-5,6,1))\n",
    "ax.set_yticks(np.arange(-1,1.1,0.1))\n",
    "ax.plot(x, sinc(x), color='b', label='sinc')\n",
    "ax.plot(x, gauss(x), color='m', label='Gaussian')\n",
    "ax.plot(x, g_sinc(x), color='k', ls=':', label='Gaussian-sinc')\n",
    "ax.plot(x, narrow_g_sinc(x), color='k', ls='--')\n",
    "ax.grid()\n",
    "ax.set_xlim(-5,5)\n",
    "ax.set_ylim(-0.5,1.1)\n",
    "ax.legend(loc='best')"
   ]
  },
  {
   "cell_type": "markdown",
   "metadata": {},
   "source": [
    "Convolution kernel generation\n",
    "==============================\n",
    "We use kernel functions to generate a small pixel-grid ('kernel of convolution'):"
   ]
  },
  {
   "cell_type": "code",
   "execution_count": null,
   "metadata": {},
   "outputs": [],
   "source": [
    "from fastimgproto.gridder.kernel_generation import Kernel\n",
    "gs_kernel = Kernel(kernel_func=narrow_g_sinc, support=3)"
   ]
  },
  {
   "cell_type": "code",
   "execution_count": null,
   "metadata": {},
   "outputs": [],
   "source": [
    "fig = plt.figure()\n",
    "ax = fig.gca()\n",
    "plt.imshow(gs_kernel.array)\n",
    "plt.colorbar()"
   ]
  },
  {
   "cell_type": "code",
   "execution_count": null,
   "metadata": {},
   "outputs": [],
   "source": [
    "fig = plt.figure()\n",
    "ax = fig.gca()\n",
    "cross_section = gs_kernel.array[gs_kernel.centre_idx]\n",
    "x_pixels_idx = np.arange(len(gs_kernel.array)) - gs_kernel.centre_idx\n",
    "ax.grid()\n",
    "ax.plot(x_pixels_idx, cross_section, ls='--', alpha=0.5, color='b', lw=3,\n",
    "       label='cross-section')\n",
    "ax.plot(x, narrow_g_sinc(x)*np.max(cross_section), ls=':', color='r', lw=3,\n",
    "       label='reference curve')\n",
    "ax.set_xlim(-4,4)\n",
    "ax.legend(loc='upper right')"
   ]
  }
 ],
 "metadata": {
  "language_info": {
   "name": "python",
   "pygments_lexer": "ipython3"
  }
 },
 "nbformat": 4,
 "nbformat_minor": 1
}
