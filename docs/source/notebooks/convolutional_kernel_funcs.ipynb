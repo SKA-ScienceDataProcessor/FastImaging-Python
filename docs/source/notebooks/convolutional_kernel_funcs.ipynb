{
 "cells": [
  {
   "cell_type": "markdown",
   "metadata": {},
   "source": [
    "Kernel Functions\n",
    "================="
   ]
  },
  {
   "cell_type": "code",
   "execution_count": null,
   "metadata": {
    "collapsed": true
   },
   "outputs": [],
   "source": [
    "import matplotlib.pyplot as plt\n",
    "import matplotlib.image as mpimg\n",
    "import numpy as np\n",
    "%matplotlib inline\n",
    "# Plot image pixels in cartesian ordering (i.e. y-positive == upwards):\n",
    "plt.rcParams['image.origin'] = 'lower'\n",
    "# Make plots bigger\n",
    "plt.rcParams['figure.figsize'] = 6, 6"
   ]
  },
  {
   "cell_type": "code",
   "execution_count": null,
   "metadata": {
    "collapsed": false
   },
   "outputs": [],
   "source": [
    "import fastimgproto.gridder.conv_funcs as conv_funcs"
   ]
  },
  {
   "cell_type": "code",
   "execution_count": null,
   "metadata": {
    "collapsed": false
   },
   "outputs": [],
   "source": [
    "triangle3 = conv_funcs.Triangle(half_base_width=3.0)\n",
    "pillbox = conv_funcs.Pillbox(half_base_width=2.5)\n",
    "sinc = conv_funcs.Sinc(3)\n",
    "gauss = conv_funcs.Gaussian(trunc=5.)\n",
    "g_sinc = conv_funcs.GaussianSinc(trunc=5.)\n",
    "narrow_g_sinc = conv_funcs.GaussianSinc(trunc=3.)"
   ]
  },
  {
   "cell_type": "code",
   "execution_count": null,
   "metadata": {
    "collapsed": false
   },
   "outputs": [],
   "source": [
    "plot_radius = 10.\n",
    "x=np.linspace(-plot_radius,plot_radius,501)"
   ]
  },
  {
   "cell_type": "code",
   "execution_count": null,
   "metadata": {
    "collapsed": false
   },
   "outputs": [],
   "source": [
    "# %matplotlib notebook\n",
    "\n",
    "# plt.plot(x, pillbox(x), color='r')\n",
    "# plt.plot(x, triangle3(x), color='g')\n",
    "plt.plot(x, sinc(x), color='b')\n",
    "plt.plot(x, gauss(x), color='m')\n",
    "plt.plot(x, g_sinc(x), color='k', ls=':')\n",
    "plt.plot(x, narrow_g_sinc(x), color='k', ls='--')\n",
    "plt.ylim(-0.5,1.1)"
   ]
  }
 ],
 "metadata": {
  "anaconda-cloud": {},
  "kernelspec": {
   "display_name": "Python 2",
   "language": "python",
   "name": "python2"
  },
  "language_info": {
   "codemirror_mode": {
    "name": "ipython",
    "version": 2
   },
   "file_extension": ".py",
   "mimetype": "text/x-python",
   "name": "python",
   "nbconvert_exporter": "python",
   "pygments_lexer": "ipython2",
   "version": "2.7.6"
  }
 },
 "nbformat": 4,
 "nbformat_minor": 0
}
