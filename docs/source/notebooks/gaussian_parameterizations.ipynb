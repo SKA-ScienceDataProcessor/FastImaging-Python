{
 "cells": [
  {
   "cell_type": "markdown",
   "metadata": {},
   "source": [
    "# Re-parameterising 2d Gaussian Profiles"
   ]
  },
  {
   "cell_type": "markdown",
   "metadata": {},
   "source": [
    "In the general case of a multivariate Gaussian, the PDF is as follows:"
   ]
  },
  {
   "cell_type": "markdown",
   "metadata": {},
   "source": [
    "$$\n",
    "f_{\\mathbf X}(x_1,\\ldots,x_k) = \\frac{\\exp\\left(-\\frac 1 2 ({\\mathbf x}-{\\boldsymbol\\mu})^\\mathrm{T}{\\boldsymbol\\Sigma}^{-1}({\\mathbf x}-{\\boldsymbol\\mu})\\right)}{\\sqrt{(2\\pi)^k|\\boldsymbol\\Sigma|}}\n",
    "$$"
   ]
  },
  {
   "cell_type": "markdown",
   "metadata": {},
   "source": [
    "For the 2d case, setting"
   ]
  },
  {
   "cell_type": "markdown",
   "metadata": {},
   "source": [
    "$$\n",
    "\\boldsymbol\\mu = \\begin{pmatrix} \\mu_X \\\\ \\mu_Y \\end{pmatrix}, \\quad\n",
    "    \\boldsymbol\\Sigma = \\begin{pmatrix} \\sigma_X^2 & \\rho \\sigma_X \\sigma_Y \\\\\n",
    "                             \\rho \\sigma_X \\sigma_Y  & \\sigma_Y^2 \\end{pmatrix}\n",
    "$$"
   ]
  },
  {
   "cell_type": "markdown",
   "metadata": {},
   "source": [
    "so that \n",
    "$$\n",
    "    |\\boldsymbol\\Sigma| = \\sigma_X^2 \\sigma_Y^2(1 -  \\rho^2)\n",
    "$$\n",
    "\n",
    "and \n",
    "\n",
    "$$\n",
    "\\boldsymbol\\Sigma^{-1} = \\frac{1}{|\\boldsymbol\\Sigma|} \\begin{pmatrix} \n",
    "                                \\sigma_Y^2 & -\\rho \\sigma_X \\sigma_Y \\\\\n",
    "                             -\\rho \\sigma_X \\sigma_Y  & \\sigma_X^2 \n",
    "                             \\end{pmatrix}\n",
    "$$"
   ]
  },
  {
   "cell_type": "markdown",
   "metadata": {},
   "source": [
    "Then substituting and simplifying gives [Eq 1]:\n",
    "$$\n",
    "\\begin{align}\n",
    "    f(x,y) &=\n",
    "      \\frac{1}{2 \\pi  \\sigma_X \\sigma_Y \\sqrt{1-\\rho^2}}\n",
    "      \\exp\\left(\n",
    "        -\\frac{1}{2(1-\\rho^2)}\\left[\n",
    "          \\frac{(x-\\mu_X)^2}{\\sigma_X^2} +\n",
    "          \\frac{(y-\\mu_Y)^2}{\\sigma_Y^2} -\n",
    "          \\frac{2\\rho(x-\\mu_X)(y-\\mu_Y)}{\\sigma_X \\sigma_Y}\n",
    "        \\right]\n",
    "      \\right)\\\\ \n",
    "\\end{align}\n",
    "$$"
   ]
  },
  {
   "cell_type": "markdown",
   "metadata": {},
   "source": [
    "For a source profile, the normalising constant factor is simply replaced by $A$, the peak amplitude.\n",
    "If there is no correlation ($\\rho =0$, which can alternatively be viewed as the major/minor profile axes being aligned with x/y) then this simplifies to the 'separable' 2D-Gaussian:\n",
    "$$\n",
    "\\begin{align}\n",
    "    f(x,y) &=\n",
    "      A\n",
    "      \\exp\\left(\n",
    "        -\\frac{1}{2}\\left[\n",
    "          \\frac{(x-\\mu_X)^2}{\\sigma_X^2} +\n",
    "          \\frac{(y-\\mu_Y)^2}{\\sigma_Y^2}\n",
    "        \\right]\n",
    "      \\right)\\\\\n",
    "\\end{align}\n",
    "$$"
   ]
  },
  {
   "cell_type": "markdown",
   "metadata": {},
   "source": [
    "Alternatively we can use the following parameterisation, where $\\theta$ represents the rotation of the major-axis of the Gaussian *counterclockwise* relative to the x-positive axis, and $\\sigma_{maj}$, $\\sigma_{min}$ represent the equivalent standard deviations in x and y if the Gaussian were *not rotated* - (i.e. the semimajor and semiminor axes) [Eq 2]:"
   ]
  },
  {
   "cell_type": "markdown",
   "metadata": {},
   "source": [
    "$$\n",
    "f(x,y) = A \\exp\\left(- \\left(a(x - \\mu_X)^2 + b(x-\\mu_X)(y-\\mu_Y) + c(y-\\mu_Y)^2 \\right)\\right)\n",
    "$$"
   ]
  },
  {
   "cell_type": "markdown",
   "metadata": {},
   "source": [
    "Where\n",
    "$$\n",
    "a = \\frac{1}{2}\\left(\\frac{\\cos^2\\theta}{\\sigma_{maj}^2} + \\frac{\\sin^2\\theta}{\\sigma_{min}^2}\\right) \\\\\n",
    "b = \\frac{1}{2}\\left(\\frac{\\sin2\\theta}{\\sigma_{maj}^2} + \\frac{\\sin2\\theta}{\\sigma_{min}^2}\\right) \\\\\n",
    "c = \\frac{1}{2}\\left(\\frac{\\sin^2\\theta}{\\sigma_{maj}^2} + \\frac{\\cos^2\\theta}{\\sigma_{min}^2}\\right) \\\\\n",
    "$$"
   ]
  },
  {
   "cell_type": "markdown",
   "metadata": {},
   "source": [
    "(This is the opposite rotation to that shown on Wikipedia, and matches the Astropy implementation.)\n",
    "\n",
    "This is convenient when representing source profiles - we can immediately read off the relative size of the semi-major and semi-minor axes, interpret the source rotation angle, etc. Note, $\\sigma_{maj}$ as defined here is the standard deviation equivalent length - to get the FWHM of the source profile you must multiply this by a factor of $2\\sqrt{2\\ln{2}}$ (see e.g. [Mathworld](http://mathworld.wolfram.com/GaussianFunction.html) for a derivation). (This matches the implementations in Astropy and S-Extractor, but PySE quotes the HWHM, i.e. larger by a factor $\\sqrt{2\\ln{2}}$.)\n",
    "\n",
    "However, the rotation-angle parameterisation makes comparison of source fits trickier. For $\\mu$ and $\\sigma$ values we can use standard 'are these floating point values close' routines, but $\\theta$ presents problems. For a start, even if we confine it to the range $(-\\pi,\\pi)$, we can still get two approximate fits with reported rotation angles just inside each of those bounds which actually represent very nearly identical fits. Second, when $\\sigma_x=\\sigma_y$, the rotation angle $\\theta$ is effectively degenerate (since the profile is circular), so we can ignore it in comparisons. How do we smoothly transition between ignoring it completely and taking it into account for elongated profiles, when comparing noisy fits?\n",
    "\n",
    "It seems a better approach would be to compare covariance matrices in the reference x-y frame. That way we effectively replace $\\theta$ with the correlation $\\rho$, which varies smoothly in the range $(-1,1)$, and simply tends to zero as a the Gaussian circularizes.\n",
    "\n",
    "To do so, we take advantage of the fact that the covariance matrix for the rotated Gaussian is simply:"
   ]
  },
  {
   "cell_type": "markdown",
   "metadata": {},
   "source": [
    "$$\n",
    "\\Sigma_{rot} = \\begin{pmatrix} \\sigma_{maj}^2 & 0 \\\\\n",
    "                             0  & \\sigma_{min}^2 \\end{pmatrix}\n",
    "$$\n",
    "\n",
    "in the rotated frame. To transform to the reference frame we define the rotation matrix:\n",
    "\n",
    "$$\n",
    "R = \\begin{pmatrix} cos(\\theta) & sin(\\theta) \\\\\n",
    "                             -sin(\\theta)  & \\cos(\\theta) \\end{pmatrix}\n",
    "$$\n",
    "\n",
    "and apply a change of basis transform:\n",
    "\n",
    "$$\n",
    "\\Sigma_{ref} = R\\,\\Sigma_{rot}\\,R^{-1}\n",
    "$$\n",
    "\n",
    "Then we compare reference-frame covariance matrices (or specifically, correlation coeffcients) for the source fits in question."
   ]
  },
  {
   "cell_type": "code",
   "execution_count": null,
   "metadata": {},
   "outputs": [],
   "source": [
    "%load_ext autoreload\n",
    "%autoreload 2"
   ]
  },
  {
   "cell_type": "code",
   "execution_count": null,
   "metadata": {},
   "outputs": [],
   "source": [
    "from fastimgproto.sourcefind.fit import Gaussian2dFit\n",
    "import numpy as np\n",
    "import astropy.units as u"
   ]
  },
  {
   "cell_type": "code",
   "execution_count": null,
   "metadata": {},
   "outputs": [],
   "source": [
    "from astropy.coordinates import Angle, SkyCoord"
   ]
  },
  {
   "cell_type": "code",
   "execution_count": null,
   "metadata": {},
   "outputs": [],
   "source": [
    "g1 = Gaussian2dFit(x_centre=0,\n",
    "                   y_centre=0,\n",
    "                   amplitude=1,\n",
    "                   semimajor=1.5,\n",
    "                   semiminor=1,\n",
    "                   theta=np.pi/4,\n",
    "                  )\n",
    "\n",
    "g1"
   ]
  },
  {
   "cell_type": "code",
   "execution_count": null,
   "metadata": {},
   "outputs": [],
   "source": [
    "g1.covariance"
   ]
  },
  {
   "cell_type": "code",
   "execution_count": null,
   "metadata": {},
   "outputs": [],
   "source": [
    "g1.correlation"
   ]
  },
  {
   "cell_type": "code",
   "execution_count": null,
   "metadata": {},
   "outputs": [],
   "source": [
    "g1.theta = -np.pi/4\n",
    "g1.correlation"
   ]
  },
  {
   "cell_type": "code",
   "execution_count": null,
   "metadata": {},
   "outputs": [],
   "source": [
    "g1.theta = np.pi/4\n",
    "g1.semimajor = 1000\n",
    "g1.correlation"
   ]
  },
  {
   "cell_type": "code",
   "execution_count": null,
   "metadata": {},
   "outputs": [],
   "source": [
    "g1.semimajor = 1.0001\n",
    "g1.correlation"
   ]
  }
 ],
 "metadata": {
  "language_info": {
   "name": "python",
   "pygments_lexer": "ipython3"
  }
 },
 "nbformat": 4,
 "nbformat_minor": 1
}
