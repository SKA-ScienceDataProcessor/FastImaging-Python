{
 "cells": [
  {
   "cell_type": "markdown",
   "metadata": {},
   "source": [
    "# Example visibility-simulation and imaging"
   ]
  },
  {
   "cell_type": "code",
   "execution_count": null,
   "metadata": {},
   "outputs": [],
   "source": [
    "import numpy as np\n",
    "import logging\n",
    "import os\n",
    "\n",
    "import astropy.units as u\n",
    "import astropy.constants as const\n",
    "import fastimgproto.imager as imager\n",
    "import fastimgproto.visibility as visibility\n",
    "\n",
    "from astropy.coordinates import Angle, SkyCoord, AltAz, EarthLocation\n",
    "from astropy.time import Time\n",
    "from fastimgproto.gridder.conv_funcs import GaussianSinc\n",
    "from fastimgproto.skymodel.helpers import SkyRegion, SkySource\n",
    "from fastimgproto.sourcefind.image import SourceFindImage\n",
    "from fastimgproto.telescope.readymade import Meerkat\n"
   ]
  },
  {
   "cell_type": "code",
   "execution_count": null,
   "metadata": {},
   "outputs": [],
   "source": [
    "import matplotlib.pyplot as plt\n",
    "import matplotlib.image as mpimg\n",
    "%matplotlib inline\n",
    "# Plot image pixels in cartesian ordering (i.e. y-positive == upwards):\n",
    "plt.rcParams['image.origin'] = 'lower'\n",
    "# Make plots bigger\n",
    "plt.rcParams['figure.figsize'] = 10, 10"
   ]
  },
  {
   "cell_type": "code",
   "execution_count": null,
   "metadata": {},
   "outputs": [],
   "source": [
    "telescope = Meerkat()\n",
    "print(\"Telescope with {} antennae == {} baselines\".format(\n",
    "    len(telescope.ant_local_xyz), len(telescope.baseline_local_xyz)))\n",
    "print(\"Centre: {!r}, {!r}\".format(telescope.lon, telescope.lat))"
   ]
  },
  {
   "cell_type": "code",
   "execution_count": null,
   "metadata": {},
   "outputs": [],
   "source": [
    "pointing_centre = SkyCoord(0 * u.deg, -30 * u.deg)\n",
    "obs_central_frequency = 3. * u.GHz\n",
    "wavelength = const.c / obs_central_frequency\n",
    "transit_time = telescope.next_transit(pointing_centre.ra,\n",
    "                                      start_time=Time('2017-01-01'))"
   ]
  },
  {
   "cell_type": "markdown",
   "metadata": {},
   "source": [
    "Let's check that the transit-time calculation is approximately correct. \n",
    "We chose the target SkyCoord to have the same celestial latitude as Meerkat's geographical latitude, so it should transit near zenith:"
   ]
  },
  {
   "cell_type": "code",
   "execution_count": null,
   "metadata": {},
   "outputs": [],
   "source": [
    "altaz = pointing_centre.transform_to(\n",
    "    AltAz(obstime=transit_time,\n",
    "         location=telescope.centre))\n",
    "altaz.alt.deg"
   ]
  },
  {
   "cell_type": "code",
   "execution_count": null,
   "metadata": {},
   "outputs": [],
   "source": [
    "nstep=10\n",
    "obs_times = transit_time + np.linspace(-1, 1, nstep) * u.hr\n",
    "print(\"Generating UVW-baselines for {} timesteps\".format(nstep))\n",
    "uvw_m = telescope.uvw_tracking_skycoord(pointing_centre, obs_times)\n",
    "# From here on we use UVW as multiples of wavelength, lambda:\n",
    "uvw_lambda = (uvw_m / wavelength).to(u.dimensionless_unscaled).value\n",
    "\n",
    "\n",
    "\n",
    "# Additional source to North-East of pointing centre\n",
    "extra_src_position = SkyCoord(ra=pointing_centre.ra + 0.01 * u.deg,\n",
    "                              dec=pointing_centre.dec + 0.01 * u.deg, )\n",
    "\n",
    "steady_sources = [\n",
    "    SkySource(pointing_centre, flux=1 * u.Jy),\n",
    "    SkySource(extra_src_position, flux=0.4 * u.Jy),\n",
    "]\n",
    "\n",
    "# Simulate incoming data; includes transient sources, noise:\n",
    "print(\"Simulating visibilities\")\n",
    "data_vis = visibility.visibilities_for_source_list(\n",
    "    pointing_centre,\n",
    "    source_list = steady_sources, \n",
    "    uvw = uvw_lambda)\n",
    "\n",
    "vis_noise_level = 0.1 * u.Jy\n",
    "data_vis = visibility.add_gaussian_noise(vis_noise_level, data_vis)\n"
   ]
  },
  {
   "cell_type": "code",
   "execution_count": null,
   "metadata": {},
   "outputs": [],
   "source": [
    "print(\"Simulated {} visibilities\".format(len(data_vis)))"
   ]
  },
  {
   "cell_type": "code",
   "execution_count": null,
   "metadata": {},
   "outputs": [],
   "source": [
    "image_size=1024 * u.pixel\n",
    "cell_size=1 * u.arcsecond"
   ]
  },
  {
   "cell_type": "code",
   "execution_count": null,
   "metadata": {},
   "outputs": [],
   "source": [
    "kernel_support = 3\n",
    "kernel_func = GaussianSinc(trunc=kernel_support)\n",
    "image, beam = imager.image_visibilities(data_vis, uvw_lambda,\n",
    "                                            image_size=image_size,\n",
    "                                            cell_size=cell_size,\n",
    "                                            kernel_func=kernel_func,\n",
    "                                            kernel_support=kernel_support,\n",
    "                                            kernel_exact=True,\n",
    "                                            kernel_oversampling=None\n",
    "                                           )\n",
    "image = np.real(image)"
   ]
  },
  {
   "cell_type": "markdown",
   "metadata": {},
   "source": [
    "Finally, let's run our rudimentary sourcefinder on the image, and plot the results:"
   ]
  },
  {
   "cell_type": "code",
   "execution_count": null,
   "metadata": {},
   "outputs": [],
   "source": [
    "from fastimgproto.sourcefind.image import SourceFindImage"
   ]
  },
  {
   "cell_type": "code",
   "execution_count": null,
   "metadata": {},
   "outputs": [],
   "source": [
    "detection_n_sigma=20\n",
    "analysis_n_sigma=15\n",
    "sfimage = SourceFindImage(data=np.real(image),\n",
    "                          detection_n_sigma=detection_n_sigma,\n",
    "                          analysis_n_sigma=analysis_n_sigma,\n",
    "                          )"
   ]
  },
  {
   "cell_type": "code",
   "execution_count": null,
   "metadata": {},
   "outputs": [],
   "source": [
    "sfimage.islands"
   ]
  },
  {
   "cell_type": "code",
   "execution_count": null,
   "metadata": {},
   "outputs": [],
   "source": [
    "src = sfimage.islands[0]"
   ]
  },
  {
   "cell_type": "code",
   "execution_count": null,
   "metadata": {},
   "outputs": [],
   "source": [
    "fig, ax1 = plt.subplots(1,1)\n",
    "ax1.imshow(image)\n",
    "axlims = 400, 600\n",
    "ax1.set_xlim(axlims)\n",
    "ax1.set_ylim(axlims)\n",
    "for src in sfimage.islands:\n",
    "    ax1.axvline(src.xbar, ls=':')\n",
    "    ax1.axhline(src.ybar, ls=':')"
   ]
  }
 ],
 "metadata": {
  "language_info": {
   "name": "python",
   "pygments_lexer": "ipython3"
  }
 },
 "nbformat": 4,
 "nbformat_minor": 1
}
